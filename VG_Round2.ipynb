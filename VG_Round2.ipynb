{
 "cells": [
  {
   "cell_type": "code",
   "execution_count": null,
   "id": "5d0d5cf8-3c4c-4745-a551-a4309006f102",
   "metadata": {},
   "outputs": [],
   "source": [
    "#𝐕𝐢𝐫𝐭𝐮𝐚𝐥 𝐄𝐱𝐡𝐢𝐛𝐢𝐭𝐢𝐨𝐧 𝐆𝐞𝐧𝐞𝐫𝐚𝐭𝐨𝐫\n",
    "\n",
    "#In this project, I aimed to create a custom immersive exhibition generator using Spotify API and the Art Institute of Chicago's API. \n",
    "#The idea is to create an app where you can chose what genre of art you want to see and a playlist is automatically created to accompany\n",
    "#the art to elevate your viewing experience."
   ]
  },
  {
   "cell_type": "code",
   "execution_count": null,
   "id": "b87e01a6-cbcb-4daa-9341-bee973183ae7",
   "metadata": {},
   "outputs": [],
   "source": [
    "#Importing necessary tools\n",
    "\n",
    "import spotipy\n",
    "import spotipy.util as util\n",
    "import json\n",
    "import webbrowser\n",
    "import pandas as pd\n",
    "import urllib.request"
   ]
  },
  {
   "cell_type": "code",
   "execution_count": null,
   "id": "6c6c3824-785e-49d6-806c-c2332cab1126",
   "metadata": {},
   "outputs": [],
   "source": [
    "#Accessing Spotify API \n",
    "\n",
    "cred = \"spotify_keys.json\"\n",
    "with open(cred,\"r\") as key_file:\n",
    "    api_tokens = json.load(key_file)\n",
    "\n",
    "key_file.close()"
   ]
  },
  {
   "cell_type": "code",
   "execution_count": null,
   "id": "01c87019-8db1-48bc-ace0-675da609379d",
   "metadata": {},
   "outputs": [],
   "source": [
    "client_id = api_tokens['client_id']\n",
    "client_secret = api_tokens['client_secret']\n",
    "redirectURI = api_tokens['redirect']\n",
    "username = api_tokens['username'] "
   ]
  },
  {
   "cell_type": "code",
   "execution_count": null,
   "id": "849cf357-4184-4958-b866-165e0ec89708",
   "metadata": {},
   "outputs": [],
   "source": [
    "scope = 'user-read-private user-read-playback-state user-modify-playback-state playlist-modify-public user-library-read'\n",
    "token = util.prompt_for_user_token(username, scope, client_id=client_id, client_secret=client_secret, redirect_uri=redirectURI)"
   ]
  },
  {
   "cell_type": "code",
   "execution_count": null,
   "id": "da1dbe5f-9dc5-417b-85c6-ad6c1b5936f5",
   "metadata": {},
   "outputs": [],
   "source": [
    "sp = spotipy.Spotify(auth=token)"
   ]
  },
  {
   "cell_type": "code",
   "execution_count": null,
   "id": "29401bf2-5d9b-499f-90d8-9b543d06a1d1",
   "metadata": {},
   "outputs": [],
   "source": [
    "#Checking Spotify recommended genres so that I know what is available.\n",
    "genre_seeds = sp.recommendation_genre_seeds()"
   ]
  },
  {
   "cell_type": "code",
   "execution_count": null,
   "id": "840d26e9-7c43-42ce-a432-983d3e577a05",
   "metadata": {},
   "outputs": [],
   "source": [
    "genre_seeds"
   ]
  },
  {
   "cell_type": "code",
   "execution_count": null,
   "id": "17aaa29d-0ab4-4705-8945-97a072c153e6",
   "metadata": {},
   "outputs": [],
   "source": [
    "#On the Art Institude of Chicago Github, I found a CSV file with their top 200 art pieces (they claim its 200, but there is way more). \n",
    "# I wanted to start working with this data to see how they categories the archive and what this means for me. \n",
    "\n",
    "art_data = pd.read_csv(\"AIC_data.csv\")"
   ]
  },
  {
   "cell_type": "code",
   "execution_count": null,
   "id": "0687ca3c-141f-4b19-b90d-0f8211c69a66",
   "metadata": {},
   "outputs": [],
   "source": [
    "display(art_data)"
   ]
  },
  {
   "cell_type": "code",
   "execution_count": null,
   "id": "afc3a917-7b0e-47c4-9f7e-9e2706c42337",
   "metadata": {},
   "outputs": [],
   "source": [
    "#That's quite a lot of data! I then wanted to see all the name of the departments/types of art that are in the data set.\n",
    "\n",
    "departments = art_data[\"department_title\"].unique()\n",
    "\n",
    "print(\"Department Titles\",departments)"
   ]
  },
  {
   "cell_type": "code",
   "execution_count": null,
   "id": "e4f82a85-6ec1-4c4e-8185-06297234f16b",
   "metadata": {},
   "outputs": [],
   "source": [
    "#At this point, the next logical step is to connect to the main API and see what is availble there. \n",
    "\n",
    "url = \"https://api.artic.edu/api/v1/artworks?fields=id,title,artist_display,date_display,classification_titles,department_title,image_id\"\n",
    "request = urllib.request.Request(url)\n",
    "response = urllib.request.urlopen(request)\n",
    "all_art_data= json.loads(response.read())\n",
    "all_art_data"
   ]
  },
  {
   "cell_type": "code",
   "execution_count": null,
   "id": "f1e994b2-0853-4016-9def-31da897d93eb",
   "metadata": {},
   "outputs": [],
   "source": [
    "#Making sense of the information above.\n",
    "\n",
    "for artwork in all_art_data['data'][:20]: \n",
    "    \n",
    "    print(\"Title:\", artwork['title'])\n",
    "    print(\"Artist:\", artwork.get('artist_display',))\n",
    "    print(\"Date:\", artwork.get('date_display'))\n",
    "    print(\"Classification:\", artwork.get('classification_titles'))\n",
    "    print(\"Department:\", artwork.get('department_title'))\n",
    "    print(\"\\n\")"
   ]
  },
  {
   "cell_type": "code",
   "execution_count": null,
   "id": "e095e778-81e9-4b8a-a9f5-2a98e2aa22fb",
   "metadata": {},
   "outputs": [],
   "source": [
    "#What are the unique department titles in this data set?\n",
    "art_departments = [department_titles['department_title'] for department_titles in all_art_data['data']]\n",
    "art_departments"
   ]
  },
  {
   "cell_type": "code",
   "execution_count": null,
   "id": "a93b6ae5-fdc6-48e2-b365-ac0e67388e18",
   "metadata": {},
   "outputs": [],
   "source": [
    "#Here I wanted to combine the data I got from the CSV and what I'm getting straight from the API so I'm not missing anything.\n",
    "\n",
    "api_art_data = pd.DataFrame(data['data'])\n",
    "\n",
    "csv_art_data = pd.read_csv(\"AIC_data.csv\")\n",
    "\n",
    "combined_art_data = pd.concat([csv_art_data, api_art_data], ignore_index=True)"
   ]
  },
  {
   "cell_type": "code",
   "execution_count": null,
   "id": "d3869ef0-4ca3-4bdc-ac3d-9546863b3000",
   "metadata": {},
   "outputs": [],
   "source": [
    "#Checking all the departments and all the classifications in my combined data set.\n",
    "\n",
    "all_departments = combined_art_data[\"department_title\"].unique()\n",
    "print(\"All Departments:\", all_departments)\n",
    "\n",
    "all_classifications = combined_art_data[\"classification_titles\"].explode().unique()\n",
    "print(\"\\nAll Classifications:\", all_classifications)"
   ]
  },
  {
   "cell_type": "code",
   "execution_count": null,
   "id": "43e024fb-0231-48a8-92e5-81455bc373f2",
   "metadata": {},
   "outputs": [],
   "source": [
    "#From what I found, I was only interested in specific departments and wanted to filter out the rest. \n",
    "\n",
    "selected_departments = [\"Modern Art\", \"Contemporary Art\", \"Photography and Media\", \"Prints and Drawings\", \"Textiles\"]\n",
    "\n",
    "department_filter = combined_art_data[\"department_title\"].isin(selected_departments)\n",
    "\n",
    "filtered_art_data = combined_art_data[department_filter]"
   ]
  },
  {
   "cell_type": "code",
   "execution_count": null,
   "id": "d88784a4-a239-4a7e-ae13-6fe8fb7a0762",
   "metadata": {},
   "outputs": [],
   "source": [
    "filtered_art_data"
   ]
  },
  {
   "cell_type": "code",
   "execution_count": null,
   "id": "13d34ef4-b15a-4739-8027-00930f3a3adf",
   "metadata": {},
   "outputs": [],
   "source": [
    "artwork_count = len(filtered_art_data)\n",
    "artwork_count"
   ]
  },
  {
   "cell_type": "code",
   "execution_count": null,
   "id": "48464c9c-1409-41f0-9e5a-f490e0467587",
   "metadata": {},
   "outputs": [],
   "source": [
    "#Checking how many pieces are in each department.\n",
    "\n",
    "department_counts = filtered_art_data[\"department_title\"].value_counts()\n",
    "\n",
    "department_counts"
   ]
  },
  {
   "cell_type": "code",
   "execution_count": null,
   "id": "acdb2630-7ead-4bbd-8892-f9b24f6ff88a",
   "metadata": {},
   "outputs": [],
   "source": [
    "#Getting just the titles in a list, out of curiosity.\n",
    "titles = filtered_art_data[\"title\"].tolist()\n",
    "for title in titles:\n",
    "    print(title)"
   ]
  },
  {
   "cell_type": "code",
   "execution_count": null,
   "id": "956a13ef-9b51-4095-bf55-f09985f10448",
   "metadata": {},
   "outputs": [],
   "source": [
    "# Art-to-Music Mapping Concept\n",
    "\n",
    "# Modern Art\n",
    "# Genre Seeds: ambient, experimental, trip-hop, electronic, idm\n",
    "# Vibe: Abstract, innovative, and textured. These genres offer an atmospheric, boundary-pushing sound without being too familiar, \n",
    "# making them a perfect match for modern art that often explores the abstract and unconventional.\n",
    "\n",
    "# Contemporary Art\n",
    "# Genre Seeds: downtempo, synth-pop, chill, minimal-techno, new-age\n",
    "# Vibe: Smooth and versatile, ideal for contemplative and bold contemporary pieces. These genres help create a modern, reflective atmosphere,\n",
    "# supporting the dynamic and introspective qualities often found in contemporary art.\n",
    "\n",
    "# Photography and Media\n",
    "# Genre Seeds: dark-ambient, electronic, lo-fi, cinematic, ambient\n",
    "# Vibe: Emotive and moody, with genres that add a cinematic or storytelling feel. These choices enhance the evocative quality of photography and media, \n",
    "# which often capture stories or moments frozen in time.\n",
    "\n",
    "# Prints and Drawings\n",
    "# Genre Seeds: ethereal, ambient, downtempo, soundscapes, neo-classical\n",
    "# Vibe: Delicate and intricate, these genres enhance the tactile feel of prints and drawings. The music is intended to be immersive yet subtle, \n",
    "# echoing the careful details and craftsmanship of print and drawing techniques.\n",
    "\n",
    "# Textiles\n",
    "# Genre Seeds: world-music, new-age, ethereal, drone, ambient\n",
    "# Vibe: Rooted yet expansive, offering a cultural or meditative quality without being overly traditional. These genres are intended to evoke a \n",
    "# connection to nature and tradition, while still feeling fresh and expansive for textile art."
   ]
  },
  {
   "cell_type": "code",
   "execution_count": null,
   "id": "ffaa28fa-abbe-42f0-9428-302960904473",
   "metadata": {},
   "outputs": [],
   "source": [
    "#Mapping what style of art should be matched with what type of art.\n",
    "\n",
    "art_to_music_map = {\n",
    "    \"Modern Art\": [\"ambient\", \"experimental\", \"trip-hop\", \"electronic\", \"idm\"],\n",
    "    \"Contemporary Art\": [\"downtempo\", \"synth-pop\", \"chill\", \"minimal-techno\", \"new-age\"],\n",
    "    \"Photography and Media\": [\"dark-ambient\", \"electronic\", \"lo-fi\", \"cinematic\", \"ambient\"],\n",
    "    \"Prints and Drawings\": [\"ethereal\", \"ambient\", \"downtempo\", \"soundscapes\", \"neo-classical\"],\n",
    "    \"Textiles\": [\"new-age\", \"ethereal\", \"drone\", \"ambient\"]\n",
    "}"
   ]
  },
  {
   "cell_type": "code",
   "execution_count": null,
   "id": "8dc68c8b-8f9e-412b-9ed4-6170199962af",
   "metadata": {},
   "outputs": [],
   "source": [
    "#Creating randomised song recommendations and checking to see if mapping worked.\n",
    "\n",
    "for art_category, genre_seeds in art_to_music_map.items():\n",
    "    print(f\"\\nMusic Recommendations for {art_category}:\")\n",
    "\n",
    "    recommendations = sp.recommendations(seed_genres=genre_seeds, limit=5)\n",
    "\n",
    "    for track in recommendations['tracks']:\n",
    "        track_name = track['name']\n",
    "        artist_name = track['artists'][0]['name']\n",
    "        print(f\" ♫ {track_name} by {artist_name}\")"
   ]
  },
  {
   "cell_type": "code",
   "execution_count": null,
   "id": "47024b41-3705-48b2-8368-38e21145bd17",
   "metadata": {},
   "outputs": [],
   "source": [
    "# At this point, I wanted to bring in images of the art pieces in my chosen categories so I can start creating randomised mixtures of the art\n",
    "# and music. I know from the AIC API that they provide URLs for images and jupyter is able to show images. However, I realised at this point\n",
    "# that in the CSV data set, there is no column for Image URLs. I tired getting all the image ids from my art data set and see if there is a \n",
    "# way for me to get URLs using those image ids. Unfortunately, that become too confusing and convoluted for me to understand so I pivioted \n",
    "# to collecting images straight from the API, still using my parameters. "
   ]
  },
  {
   "cell_type": "code",
   "execution_count": null,
   "id": "1c65c26d-b963-4081-b0a3-6108e013e5c0",
   "metadata": {},
   "outputs": [],
   "source": [
    "# Below is the code for the Virutal Exhibiton Generator. First step is making it possible to import images into Jupyter Notebook.\n",
    "# Getting the images and filtering only for the categories I want. "
   ]
  },
  {
   "cell_type": "code",
   "execution_count": null,
   "id": "fa7f0884-fa3c-4db8-b2f8-8e9fda5483ff",
   "metadata": {},
   "outputs": [],
   "source": [
    "#Importing images into Jupyter Notebook\n",
    "from IPython.display import display, Image\n",
    "\n",
    "\n",
    "def create_virtual_exhibition(selected_categories, num_images=3, num_songs=5):\n",
    "    track_uris = []\n",
    "    print(f\"Virtual Exhibiton of {selected_categories}\\n\")\n",
    "    \n",
    "    for category in selected_categories:\n",
    "        print(f\"\\nExhibition Category: {category}\")\n",
    "\n",
    "        \n",
    "# Getting artworks in the chosen category\n",
    "        artworks_in_category = artworks_df[artworks_df[\"department_title\"] == category]\n",
    "\n",
    "        \n",
    "# Randomly select images from the category\n",
    "        sample_artworks = artworks_in_category.sample(n=min(num_images, len(artworks_in_category)))\n",
    "        for _, artwork in sample_artworks.iterrows():\n",
    "            print(f\"Title: {artwork['title']} - Artist: {artwork.get('artist_title', 'Unknown')}\")\n",
    "            image_url = artwork.get(\"image_url\")\n",
    "            if pd.notna(image_url) and image_url:\n",
    "                display(Image(url=image_url, width=300))\n",
    "\n",
    "# Getting music recommendations based on the genre seeds for each category\n",
    "        \n",
    "        genre_seeds = art_to_music_map.get(category, [])\n",
    "        recommendations = sp.recommendations(seed_genres=genre_seeds, limit=num_songs)\n",
    "        for track in recommendations['tracks']:\n",
    "            track_name = track['name']\n",
    "            artist_name = track['artists'][0]['name']\n",
    "            print(f\" - {track_name} by {artist_name}\")\n",
    "            track_uris.append(track['uri'])\n",
    "\n",
    "    \n",
    "# Create a Spotify playlist with the collected track URIs\n",
    "    \n",
    "    playlist = sp.user_playlist_create(user=username, name=\"Virtual Gallery Playlist\", public=True)\n",
    "    sp.playlist_add_items(playlist_id=playlist['id'], items=track_uris)\n",
    "    print(\"\\nSpotify Playlist Link:\", playlist['external_urls']['spotify'])"
   ]
  },
  {
   "cell_type": "code",
   "execution_count": null,
   "id": "6cb927f3-d298-49c6-97ad-ab9f3bdc82bf",
   "metadata": {},
   "outputs": [],
   "source": [
    "#By selecting what categories you want to see, how many number of images and songs you want, a mini \"exhibiton\" will be generated for you.\n",
    "\n",
    "selected_categories = [\"Modern Art\", \"Contemporary Art\"]\n",
    "create_virtual_exhibition(selected_categories, num_images=5, num_songs=5)"
   ]
  },
  {
   "cell_type": "code",
   "execution_count": null,
   "id": "1674ee1e-1a69-485f-aae8-7850520ca0eb",
   "metadata": {},
   "outputs": [],
   "source": [
    "selected_categories = [\"Photography and Media\", \"Prints and Drawings\"]\n",
    "create_virtual_exhibition(selected_categories, num_images=5, num_songs=5)"
   ]
  },
  {
   "cell_type": "code",
   "execution_count": null,
   "id": "a1b739b9-6a66-4110-a620-18c3f850a4b1",
   "metadata": {},
   "outputs": [],
   "source": []
  },
  {
   "cell_type": "code",
   "execution_count": null,
   "id": "b3151044-3fb7-45df-a5ce-1fc6cc6dd34b",
   "metadata": {},
   "outputs": [],
   "source": []
  },
  {
   "cell_type": "code",
   "execution_count": null,
   "id": "07b0fc8e-bd2b-4d23-96bd-e613e7187735",
   "metadata": {},
   "outputs": [],
   "source": []
  },
  {
   "cell_type": "code",
   "execution_count": null,
   "id": "39e24f31-c5ce-49d1-8521-deae9c607f08",
   "metadata": {},
   "outputs": [],
   "source": []
  },
  {
   "cell_type": "code",
   "execution_count": null,
   "id": "80d8b8a7-a34c-461a-ac64-59c617e101a6",
   "metadata": {},
   "outputs": [],
   "source": []
  },
  {
   "cell_type": "code",
   "execution_count": null,
   "id": "580d308e-e6c1-4705-a6fd-3517b7f452e1",
   "metadata": {},
   "outputs": [],
   "source": []
  }
 ],
 "metadata": {
  "kernelspec": {
   "display_name": "Python 3 (ipykernel)",
   "language": "python",
   "name": "python3"
  },
  "language_info": {
   "codemirror_mode": {
    "name": "ipython",
    "version": 3
   },
   "file_extension": ".py",
   "mimetype": "text/x-python",
   "name": "python",
   "nbconvert_exporter": "python",
   "pygments_lexer": "ipython3",
   "version": "3.12.7"
  }
 },
 "nbformat": 4,
 "nbformat_minor": 5
}
