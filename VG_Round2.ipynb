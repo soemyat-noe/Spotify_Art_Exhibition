{
 "cells": [
  {
   "cell_type": "code",
   "execution_count": 1,
   "id": "5d0d5cf8-3c4c-4745-a551-a4309006f102",
   "metadata": {},
   "outputs": [],
   "source": [
    "#𝐕𝐢𝐫𝐭𝐮𝐚𝐥 𝐄𝐱𝐡𝐢𝐛𝐢𝐭𝐢𝐨𝐧 𝐆𝐞𝐧𝐞𝐫𝐚𝐭𝐨𝐫\n",
    "\n",
    "# This project aims to create a virtual exhibition generator that uses the Spotify API \n",
    "# and the Art Institute of Chicago's API. The goal is to allow users to select art genres\n",
    "# and receive an accompanying music playlist to enhance their viewing experience."
   ]
  },
  {
   "cell_type": "code",
   "execution_count": 2,
   "id": "b87e01a6-cbcb-4daa-9341-bee973183ae7",
   "metadata": {},
   "outputs": [],
   "source": [
    "#Importing necessary tools\n",
    "# Spotipy: For accessing the Spotify API.\n",
    "# Pandas: For data handling and manipulation.\n",
    "# Urllib: For making HTTP requests to APIs.\n",
    "# IPython.display: For displaying images and media in the Notebook.\n",
    "\n",
    "import spotipy\n",
    "import spotipy.util as util\n",
    "import json\n",
    "import webbrowser\n",
    "import pandas as pd\n",
    "import urllib.request\n",
    "from IPython.display import display, Image"
   ]
  },
  {
   "cell_type": "code",
   "execution_count": 3,
   "id": "6c6c3824-785e-49d6-806c-c2332cab1126",
   "metadata": {},
   "outputs": [],
   "source": [
    "#Accessing Spotify API \n",
    "\n",
    "cred = \"spotify_keys.json\"\n",
    "with open(cred,\"r\") as key_file:\n",
    "    api_tokens = json.load(key_file)\n",
    "\n",
    "key_file.close()"
   ]
  },
  {
   "cell_type": "code",
   "execution_count": 4,
   "id": "01c87019-8db1-48bc-ace0-675da609379d",
   "metadata": {},
   "outputs": [],
   "source": [
    "client_id = api_tokens['client_id']\n",
    "client_secret = api_tokens['client_secret']\n",
    "redirectURI = api_tokens['redirect']\n",
    "username = api_tokens['username'] "
   ]
  },
  {
   "cell_type": "code",
   "execution_count": 5,
   "id": "849cf357-4184-4958-b866-165e0ec89708",
   "metadata": {},
   "outputs": [],
   "source": [
    "scope = 'user-read-private user-read-playback-state user-modify-playback-state playlist-modify-public user-library-read'\n",
    "token = util.prompt_for_user_token(username, scope, client_id=client_id, client_secret=client_secret, redirect_uri=redirectURI)"
   ]
  },
  {
   "cell_type": "code",
   "execution_count": 6,
   "id": "da1dbe5f-9dc5-417b-85c6-ad6c1b5936f5",
   "metadata": {},
   "outputs": [],
   "source": [
    "sp = spotipy.Spotify(auth=token)"
   ]
  },
  {
   "cell_type": "code",
   "execution_count": null,
   "id": "29401bf2-5d9b-499f-90d8-9b543d06a1d1",
   "metadata": {},
   "outputs": [],
   "source": [
    "# Available genre seeds from Spotify are fetched, which will later be used to \n",
    "# generate music recommendations based on the selected art categories.\n",
    "\n",
    "genre_seeds = sp.recommendation_genre_seeds()"
   ]
  },
  {
   "cell_type": "code",
   "execution_count": null,
   "id": "840d26e9-7c43-42ce-a432-983d3e577a05",
   "metadata": {},
   "outputs": [],
   "source": [
    "genre_seeds"
   ]
  },
  {
   "cell_type": "code",
   "execution_count": null,
   "id": "17aaa29d-0ab4-4705-8945-97a072c153e6",
   "metadata": {},
   "outputs": [],
   "source": [
    "# Artwork data is loaded from a CSV file of data from the AIC Github,containing information \n",
    "# about their most popular art pieces. This will help form the foundation for my virtual exhibition.\"\n",
    "\n",
    "\n",
    "art_data = pd.read_csv(\"AIC_data.csv\")"
   ]
  },
  {
   "cell_type": "code",
   "execution_count": null,
   "id": "0687ca3c-141f-4b19-b90d-0f8211c69a66",
   "metadata": {},
   "outputs": [],
   "source": [
    "display(art_data)"
   ]
  },
  {
   "cell_type": "code",
   "execution_count": null,
   "id": "afc3a917-7b0e-47c4-9f7e-9e2706c42337",
   "metadata": {},
   "outputs": [],
   "source": [
    "# Unique department titles are extracted from the art data, providing insight into how \n",
    "# the artworks are categorised.\n",
    "\n",
    "departments = art_data[\"department_title\"].unique()\n",
    "\n",
    "print(\"Department Titles\",departments)"
   ]
  },
  {
   "cell_type": "code",
   "execution_count": null,
   "id": "e4f82a85-6ec1-4c4e-8185-06297234f16b",
   "metadata": {},
   "outputs": [],
   "source": [
    "# A request is made to the Art Institute API to retrieve additional artwork details, \n",
    "# including image IDs and classifications, which enhances the dataset I am working with.\n",
    "\n",
    "url = \"https://api.artic.edu/api/v1/artworks?fields=id,title,artist_display,date_display,classification_titles,department_title,image_id\"\n",
    "request = urllib.request.Request(url)\n",
    "response = urllib.request.urlopen(request)\n",
    "all_art_data= json.loads(response.read())\n",
    "all_art_data"
   ]
  },
  {
   "cell_type": "code",
   "execution_count": null,
   "id": "f1e994b2-0853-4016-9def-31da897d93eb",
   "metadata": {},
   "outputs": [],
   "source": [
    "# Analysing artword data\n",
    "\n",
    "for artwork in all_art_data['data'][:20]: \n",
    "    \n",
    "    print(\"Title:\", artwork['title'])\n",
    "    print(\"Artist:\", artwork.get('artist_display',))\n",
    "    print(\"Date:\", artwork.get('date_display'))\n",
    "    print(\"Classification:\", artwork.get('classification_titles'))\n",
    "    print(\"Department:\", artwork.get('department_title'))\n",
    "    print(\"\\n\")"
   ]
  },
  {
   "cell_type": "code",
   "execution_count": null,
   "id": "e095e778-81e9-4b8a-a9f5-2a98e2aa22fb",
   "metadata": {},
   "outputs": [],
   "source": [
    "#What are the unique department titles in this data set?\n",
    "art_departments = [department_titles['department_title'] for department_titles in all_art_data['data']]\n",
    "art_departments"
   ]
  },
  {
   "cell_type": "code",
   "execution_count": null,
   "id": "a93b6ae5-fdc6-48e2-b365-ac0e67388e18",
   "metadata": {},
   "outputs": [],
   "source": [
    "# I combine the artwork data from both the CSV and the API into a single DataFrame, \n",
    "# ensuring that all relevant information is consolidated for my code.\n",
    "\n",
    "api_art_data = pd.DataFrame(data['data'])\n",
    "\n",
    "csv_art_data = pd.read_csv(\"AIC_data.csv\")\n",
    "\n",
    "combined_art_data = pd.concat([csv_art_data, api_art_data], ignore_index=True)"
   ]
  },
  {
   "cell_type": "code",
   "execution_count": null,
   "id": "d3869ef0-4ca3-4bdc-ac3d-9546863b3000",
   "metadata": {},
   "outputs": [],
   "source": [
    "# I list all unique department titles in the combined dataset to get an overview of \n",
    "# the available art categories.\"\n",
    "\n",
    "all_departments = combined_art_data[\"department_title\"].unique()\n",
    "print(\"All Departments:\", all_departments)\n",
    "\n",
    "all_classifications = combined_art_data[\"classification_titles\"].explode().unique()\n",
    "print(\"\\nAll Classifications:\", all_classifications)"
   ]
  },
  {
   "cell_type": "code",
   "execution_count": null,
   "id": "43e024fb-0231-48a8-92e5-81455bc373f2",
   "metadata": {},
   "outputs": [],
   "source": [
    "# The combined dataset is filtered to include only the selected departments relevant to \n",
    "# my exhibition, ensuring that only interesting artworks are considered.\n",
    "\n",
    "selected_departments = [\"Modern Art\", \"Contemporary Art\", \"Photography and Media\", \"Prints and Drawings\", \"Textiles\"]\n",
    "\n",
    "department_filter = combined_art_data[\"department_title\"].isin(selected_departments)\n",
    "\n",
    "filtered_art_data = combined_art_data[department_filter]"
   ]
  },
  {
   "cell_type": "code",
   "execution_count": null,
   "id": "d88784a4-a239-4a7e-ae13-6fe8fb7a0762",
   "metadata": {},
   "outputs": [],
   "source": [
    "filtered_art_data"
   ]
  },
  {
   "cell_type": "code",
   "execution_count": null,
   "id": "13d34ef4-b15a-4739-8027-00930f3a3adf",
   "metadata": {},
   "outputs": [],
   "source": [
    "# Calculating the total number of artworks available in the filtered dataset.\n",
    "\n",
    "artwork_count = len(filtered_art_data)\n",
    "artwork_count"
   ]
  },
  {
   "cell_type": "code",
   "execution_count": null,
   "id": "48464c9c-1409-41f0-9e5a-f490e0467587",
   "metadata": {},
   "outputs": [],
   "source": [
    "# Counting the number of artworks in each selected department, \n",
    "# which provides insight into the distribution of artworks across categories.\n",
    "\n",
    "department_counts = filtered_art_data[\"department_title\"].value_counts()\n",
    "\n",
    "department_counts"
   ]
  },
  {
   "cell_type": "code",
   "execution_count": null,
   "id": "acdb2630-7ead-4bbd-8892-f9b24f6ff88a",
   "metadata": {},
   "outputs": [],
   "source": [
    "# A list of artwork titles is created from the filtered dataset, and I print them out to quickly see the available artworks.\n",
    "\n",
    "titles = filtered_art_data[\"title\"].tolist()\n",
    "for title in titles:\n",
    "    print(title)"
   ]
  },
  {
   "cell_type": "code",
   "execution_count": null,
   "id": "956a13ef-9b51-4095-bf55-f09985f10448",
   "metadata": {},
   "outputs": [],
   "source": [
    "# Art-to-Music Mapping Concept\n",
    "\n",
    "# Modern Art\n",
    "# Genre Seeds: ambient, experimental, trip-hop, electronic, idm\n",
    "# Vibe: Abstract, innovative, and textured. These genres offer an atmospheric, boundary-pushing sound without being too familiar, \n",
    "# making them a perfect match for modern art that often explores the abstract and unconventional.\n",
    "\n",
    "# Contemporary Art\n",
    "# Genre Seeds: downtempo, synth-pop, chill, minimal-techno, new-age\n",
    "# Vibe: Smooth and versatile, ideal for contemplative and bold contemporary pieces. These genres help create a modern, reflective atmosphere,\n",
    "# supporting the dynamic and introspective qualities often found in contemporary art.\n",
    "\n",
    "# Photography and Media\n",
    "# Genre Seeds: dark-ambient, electronic, lo-fi, cinematic, ambient\n",
    "# Vibe: Emotive and moody, with genres that add a cinematic or storytelling feel. These choices enhance the evocative quality of photography and media, \n",
    "# which often capture stories or moments frozen in time.\n",
    "\n",
    "# Prints and Drawings\n",
    "# Genre Seeds: ethereal, ambient, downtempo, soundscapes, neo-classical\n",
    "# Vibe: Delicate and intricate, these genres enhance the tactile feel of prints and drawings. The music is intended to be immersive yet subtle, \n",
    "# echoing the careful details and craftsmanship of print and drawing techniques.\n",
    "\n",
    "# Textiles\n",
    "# Genre Seeds: world-music, new-age, ethereal, drone, ambient\n",
    "# Vibe: Rooted yet expansive, offering a cultural or meditative quality without being overly traditional. These genres are intended to evoke a \n",
    "# connection to nature and tradition, while still feeling fresh and expansive for textile art."
   ]
  },
  {
   "cell_type": "code",
   "execution_count": null,
   "id": "ffaa28fa-abbe-42f0-9428-302960904473",
   "metadata": {},
   "outputs": [],
   "source": [
    "#Mapping what style of art should be matched with what genre of music.\n",
    "\n",
    "art_to_music_map = {\n",
    "    \"Modern Art\": [\"ambient\", \"experimental\", \"trip-hop\", \"electronic\", \"idm\"],\n",
    "    \"Contemporary Art\": [\"downtempo\", \"synth-pop\", \"chill\", \"minimal-techno\", \"new-age\"],\n",
    "    \"Photography and Media\": [\"dark-ambient\", \"electronic\", \"lo-fi\", \"cinematic\", \"ambient\"],\n",
    "    \"Prints and Drawings\": [\"ethereal\", \"ambient\", \"downtempo\", \"soundscapes\", \"neo-classical\"],\n",
    "    \"Textiles\": [\"new-age\", \"ethereal\", \"drone\", \"ambient\"]\n",
    "}"
   ]
  },
  {
   "cell_type": "code",
   "execution_count": null,
   "id": "8dc68c8b-8f9e-412b-9ed4-6170199962af",
   "metadata": {},
   "outputs": [],
   "source": [
    "# Loop which generates and prints music recommendations for each art category based on \n",
    "# the genre mapping, demonstrating whcich music will compliment the art experience.\n",
    "\n",
    "for art_category, genre_seeds in art_to_music_map.items():\n",
    "    print(f\"\\nMusic Recommendations for {art_category}:\")\n",
    "\n",
    "    recommendations = sp.recommendations(seed_genres=genre_seeds, limit=5)\n",
    "\n",
    "    for track in recommendations['tracks']:\n",
    "        track_name = track['name']\n",
    "        artist_name = track['artists'][0]['name']\n",
    "        print(f\" ♫ {track_name} by {artist_name}\")"
   ]
  },
  {
   "cell_type": "code",
   "execution_count": null,
   "id": "47024b41-3705-48b2-8368-38e21145bd17",
   "metadata": {},
   "outputs": [],
   "source": [
    "# At this point, I wanted to bring in images of the art pieces in my chosen categories so I can start creating randomised mixtures of the art\n",
    "# and music. I know from the AIC API that they provide URLs for images and jupyter is able to show images. However, I realised at this point\n",
    "# that in the CSV data set, there is no column for Image URLs. I tired getting all the image ids from my art data set and see if there is a \n",
    "# way for me to get URLs using those image ids. Unfortunately, that become too confusing and convoluted for me to understand so I pivioted \n",
    "# to collecting images straight from the API, still using my parameters. "
   ]
  },
  {
   "cell_type": "code",
   "execution_count": null,
   "id": "fa7f0884-fa3c-4db8-b2f8-8e9fda5483ff",
   "metadata": {},
   "outputs": [],
   "source": [
    "# I defined the create_virtual_exhibition function, which takes filtered artwork data \n",
    "# and selected categories to display artworks and generate music recommendations.\n",
    "\n",
    "# Inside this function, I retrieve artworks based on selected categories, display them, \n",
    "# fetch corresponding music recommendations, and create a Spotify playlist with the recommended tracks.\n",
    "    \n",
    "\n",
    "def create_virtual_exhibition(filtered_art_data, selected_categories, num_images=3, num_songs=5):\n",
    "    track_uris = []\n",
    "    print(f\"Virtual Exhibition of {selected_categories}\\n\")\n",
    "\n",
    "    for category in selected_categories:\n",
    "        print(f\"\\nExhibition Category: {category}\")\n",
    "\n",
    "        # Getting artworks in the chosen category\n",
    "        artworks_in_category = filtered_art_data[filtered_art_data[\"department_title\"] == category]\n",
    "\n",
    "        if artworks_in_category.empty:\n",
    "            print(f\"No artworks found for category: {category}\")\n",
    "            continue\n",
    "        \n",
    "        # Randomly select images from the category\n",
    "        sample_artworks = artworks_in_category.sample(n=min(num_images, len(artworks_in_category)))\n",
    "        for _, artwork in sample_artworks.iterrows():\n",
    "            print(f\"Title: {artwork['title']} - Artist: {artwork.get('artist_display', 'Unknown')}\")\n",
    "            image_url = artwork.get(\"image_url\")\n",
    "            if pd.notna(image_url) and image_url:\n",
    "                display(Image(url=image_url, width=300))\n",
    "\n",
    "        # Getting music recommendations based on the genre seeds for each category\n",
    "        genre_seeds = art_to_music_map.get(category, [])\n",
    "        recommendations = sp.recommendations(seed_genres=genre_seeds, limit=num_songs)\n",
    "        for track in recommendations['tracks']:\n",
    "            track_name = track['name']\n",
    "            artist_name = track['artists'][0]['name']\n",
    "            print(f\" - {track_name} by {artist_name}\")\n",
    "            track_uris.append(track['uri'])\n",
    "\n",
    "    # Create a Spotify playlist with the collected track URIs\n",
    "    if track_uris:  # Check if there are any track URIs\n",
    "        playlist = sp.user_playlist_create(user=username, name=\"Virtual Gallery Playlist\", public=True)\n",
    "        sp.playlist_add_items(playlist_id=playlist['id'], items=track_uris)\n",
    "        print(\"\\nSpotify Playlist Link:\", playlist['external_urls']['spotify'])\n",
    "    else:\n",
    "        print(\"No songs to add to the playlist.\")"
   ]
  },
  {
   "cell_type": "code",
   "execution_count": null,
   "id": "6cb927f3-d298-49c6-97ad-ab9f3bdc82bf",
   "metadata": {},
   "outputs": [],
   "source": [
    "#\"The exhibition function is called with specific categories, demonstrating how the \n",
    "# virtual exhibition works by displaying artworks and generating a music playlist that \n",
    "# aligns with those themes.\n",
    "\n",
    "selected_categories = [\"Modern Art\", \"Contemporary Art\"]\n",
    "create_virtual_exhibition(filtered_art_data, selected_categories, num_images=5, num_songs=5)"
   ]
  },
  {
   "cell_type": "code",
   "execution_count": null,
   "id": "1674ee1e-1a69-485f-aae8-7850520ca0eb",
   "metadata": {},
   "outputs": [],
   "source": [
    "selected_categories = [\"Photography and Media\", \"Textiles\"]\n",
    "create_virtual_exhibition(filtered_art_data, selected_categories, num_images=5, num_songs=5)"
   ]
  },
  {
   "cell_type": "code",
   "execution_count": null,
   "id": "a1b739b9-6a66-4110-a620-18c3f850a4b1",
   "metadata": {},
   "outputs": [],
   "source": [
    "# In summary, this project successfully combines art and music to create an engaging \n",
    "# virtual exhibition experience. By structuring the code to load, filter, and display \n",
    "# artworks while generating tailored music recommendations, I aim to enhance the overall \n",
    "# enjoyment of the exhibition."
   ]
  }
 ],
 "metadata": {
  "kernelspec": {
   "display_name": "Python 3 (ipykernel)",
   "language": "python",
   "name": "python3"
  },
  "language_info": {
   "codemirror_mode": {
    "name": "ipython",
    "version": 3
   },
   "file_extension": ".py",
   "mimetype": "text/x-python",
   "name": "python",
   "nbconvert_exporter": "python",
   "pygments_lexer": "ipython3",
   "version": "3.12.7"
  }
 },
 "nbformat": 4,
 "nbformat_minor": 5
}
