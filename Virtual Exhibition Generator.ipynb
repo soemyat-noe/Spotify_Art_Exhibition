{
 "cells": [
  {
   "cell_type": "code",
   "execution_count": 143,
   "id": "5d0d5cf8-3c4c-4745-a551-a4309006f102",
   "metadata": {},
   "outputs": [],
   "source": [
    "#𝐕𝐢𝐫𝐭𝐮𝐚𝐥 𝐄𝐱𝐡𝐢𝐛𝐢𝐭𝐢𝐨𝐧 𝐆𝐞𝐧𝐞𝐫𝐚𝐭𝐨𝐫\n",
    "\n",
    "# This project aims to create a virtual exhibition generator that uses the Spotify API \n",
    "# and the Art Institute of Chicago's API. The goal is to allow users to select art genres\n",
    "# and receive an accompanying music playlist to enhance their viewing experience."
   ]
  },
  {
   "cell_type": "code",
   "execution_count": 144,
   "id": "b87e01a6-cbcb-4daa-9341-bee973183ae7",
   "metadata": {},
   "outputs": [],
   "source": [
    "#Importing necessary tools\n",
    "# Spotipy: For accessing the Spotify API.\n",
    "# Pandas: For data handling and manipulation.\n",
    "# Urllib: For making HTTP requests to APIs.\n",
    "# IPython.display: For displaying images and media in the Notebook.\n",
    "\n",
    "import spotipy\n",
    "import spotipy.util as util\n",
    "import json\n",
    "import webbrowser\n",
    "import pandas as pd\n",
    "import urllib.request\n",
    "from IPython.display import display, Image"
   ]
  },
  {
   "cell_type": "code",
   "execution_count": 145,
   "id": "6c6c3824-785e-49d6-806c-c2332cab1126",
   "metadata": {},
   "outputs": [],
   "source": [
    "#Accessing Spotify API \n",
    "\n",
    "cred = \"spotify_keys.json\"\n",
    "with open(cred, \"r\") as key_file:\n",
    "    api_tokens = json.load(key_file)\n",
    "\n",
    "client_id = api_tokens['client_id']\n",
    "client_secret = api_tokens['client_secret']\n",
    "redirectURI = api_tokens['redirect']\n",
    "username = api_tokens['username']\n"
   ]
  },
  {
   "cell_type": "code",
   "execution_count": 146,
   "id": "01c87019-8db1-48bc-ace0-675da609379d",
   "metadata": {},
   "outputs": [],
   "source": [
    "client_id = api_tokens['client_id']\n",
    "client_secret = api_tokens['client_secret']\n",
    "redirectURI = api_tokens['redirect']\n",
    "username = api_tokens['username'] "
   ]
  },
  {
   "cell_type": "code",
   "execution_count": 147,
   "id": "849cf357-4184-4958-b866-165e0ec89708",
   "metadata": {},
   "outputs": [],
   "source": [
    "scope = 'user-read-private user-read-playback-state user-modify-playback-state playlist-modify-public user-library-read'\n",
    "token = util.prompt_for_user_token(username, scope, client_id=client_id, client_secret=client_secret, redirect_uri=redirectURI)\n",
    "\n",
    "sp = spotipy.Spotify(auth=token)"
   ]
  },
  {
   "cell_type": "code",
   "execution_count": 148,
   "id": "29401bf2-5d9b-499f-90d8-9b543d06a1d1",
   "metadata": {},
   "outputs": [],
   "source": [
    "# Artwork data is loaded from a CSV file of data from the AIC Github,containing information \n",
    "# about their most popular art pieces. This is the first step in my data collection process.\n",
    "\n",
    "art_data = pd.read_csv(\"AIC_data.csv\")"
   ]
  },
  {
   "cell_type": "code",
   "execution_count": 149,
   "id": "0def6f41-d8c6-4259-8200-f14306f000e3",
   "metadata": {},
   "outputs": [
    {
     "data": {
      "text/html": [
       "<div>\n",
       "<style scoped>\n",
       "    .dataframe tbody tr th:only-of-type {\n",
       "        vertical-align: middle;\n",
       "    }\n",
       "\n",
       "    .dataframe tbody tr th {\n",
       "        vertical-align: top;\n",
       "    }\n",
       "\n",
       "    .dataframe thead th {\n",
       "        text-align: right;\n",
       "    }\n",
       "</style>\n",
       "<table border=\"1\" class=\"dataframe\">\n",
       "  <thead>\n",
       "    <tr style=\"text-align: right;\">\n",
       "      <th></th>\n",
       "      <th>id</th>\n",
       "      <th>title</th>\n",
       "      <th>main_reference_number</th>\n",
       "      <th>department_title</th>\n",
       "      <th>artist_title</th>\n",
       "    </tr>\n",
       "  </thead>\n",
       "  <tbody>\n",
       "    <tr>\n",
       "      <th>0</th>\n",
       "      <td>869</td>\n",
       "      <td>The Watermill with the Great Red Roof</td>\n",
       "      <td>1894.1031</td>\n",
       "      <td>Painting and Sculpture of Europe</td>\n",
       "      <td>Meindert Hobbema</td>\n",
       "    </tr>\n",
       "    <tr>\n",
       "      <th>1</th>\n",
       "      <td>2189</td>\n",
       "      <td>Ready-to-Wear</td>\n",
       "      <td>1956.137</td>\n",
       "      <td>Arts of the Americas</td>\n",
       "      <td>Stuart Davis</td>\n",
       "    </tr>\n",
       "    <tr>\n",
       "      <th>2</th>\n",
       "      <td>2816</td>\n",
       "      <td>Interior at Nice</td>\n",
       "      <td>1956.339</td>\n",
       "      <td>Modern Art</td>\n",
       "      <td>Henri Matisse</td>\n",
       "    </tr>\n",
       "    <tr>\n",
       "      <th>3</th>\n",
       "      <td>4081</td>\n",
       "      <td>Gian Lodovico Madruzzo</td>\n",
       "      <td>1929.912</td>\n",
       "      <td>Painting and Sculpture of Europe</td>\n",
       "      <td>Giovanni Battista Moroni</td>\n",
       "    </tr>\n",
       "    <tr>\n",
       "      <th>4</th>\n",
       "      <td>4428</td>\n",
       "      <td>Mère Grégoire</td>\n",
       "      <td>1930.78</td>\n",
       "      <td>Painting and Sculpture of Europe</td>\n",
       "      <td>Gustave Courbet</td>\n",
       "    </tr>\n",
       "    <tr>\n",
       "      <th>...</th>\n",
       "      <td>...</td>\n",
       "      <td>...</td>\n",
       "      <td>...</td>\n",
       "      <td>...</td>\n",
       "      <td>...</td>\n",
       "    </tr>\n",
       "    <tr>\n",
       "      <th>417</th>\n",
       "      <td>234004</td>\n",
       "      <td>Untitled 72–12–A</td>\n",
       "      <td>2016.62</td>\n",
       "      <td>Contemporary Art</td>\n",
       "      <td>Chung, Sang-Hwa</td>\n",
       "    </tr>\n",
       "    <tr>\n",
       "      <th>418</th>\n",
       "      <td>234433</td>\n",
       "      <td>Involvement Series</td>\n",
       "      <td>2016.66</td>\n",
       "      <td>Contemporary Art</td>\n",
       "      <td>Wanda Pimentel</td>\n",
       "    </tr>\n",
       "    <tr>\n",
       "      <th>419</th>\n",
       "      <td>234781</td>\n",
       "      <td>Christ Carrying the Cross</td>\n",
       "      <td>2016.15</td>\n",
       "      <td>Painting and Sculpture of Europe</td>\n",
       "      <td>Sebastiano del Piombo</td>\n",
       "    </tr>\n",
       "    <tr>\n",
       "      <th>420</th>\n",
       "      <td>234972</td>\n",
       "      <td>Small Town by Day (Badische Kleinstadt bei Tage)</td>\n",
       "      <td>2016.46</td>\n",
       "      <td>Modern Art</td>\n",
       "      <td>Georg Scholz</td>\n",
       "    </tr>\n",
       "    <tr>\n",
       "      <th>421</th>\n",
       "      <td>238749</td>\n",
       "      <td>Bottle Rack (Porte-Bouteilles)</td>\n",
       "      <td>2017.422</td>\n",
       "      <td>Modern Art</td>\n",
       "      <td>Marcel Duchamp</td>\n",
       "    </tr>\n",
       "  </tbody>\n",
       "</table>\n",
       "<p>422 rows × 5 columns</p>\n",
       "</div>"
      ],
      "text/plain": [
       "         id                                             title  \\\n",
       "0       869             The Watermill with the Great Red Roof   \n",
       "1      2189                                     Ready-to-Wear   \n",
       "2      2816                                  Interior at Nice   \n",
       "3      4081                            Gian Lodovico Madruzzo   \n",
       "4      4428                                     Mère Grégoire   \n",
       "..      ...                                               ...   \n",
       "417  234004                                  Untitled 72–12–A   \n",
       "418  234433                                Involvement Series   \n",
       "419  234781                         Christ Carrying the Cross   \n",
       "420  234972  Small Town by Day (Badische Kleinstadt bei Tage)   \n",
       "421  238749                    Bottle Rack (Porte-Bouteilles)   \n",
       "\n",
       "    main_reference_number                  department_title  \\\n",
       "0               1894.1031  Painting and Sculpture of Europe   \n",
       "1                1956.137              Arts of the Americas   \n",
       "2                1956.339                        Modern Art   \n",
       "3                1929.912  Painting and Sculpture of Europe   \n",
       "4                 1930.78  Painting and Sculpture of Europe   \n",
       "..                    ...                               ...   \n",
       "417               2016.62                  Contemporary Art   \n",
       "418               2016.66                  Contemporary Art   \n",
       "419               2016.15  Painting and Sculpture of Europe   \n",
       "420               2016.46                        Modern Art   \n",
       "421              2017.422                        Modern Art   \n",
       "\n",
       "                 artist_title  \n",
       "0            Meindert Hobbema  \n",
       "1                Stuart Davis  \n",
       "2               Henri Matisse  \n",
       "3    Giovanni Battista Moroni  \n",
       "4             Gustave Courbet  \n",
       "..                        ...  \n",
       "417           Chung, Sang-Hwa  \n",
       "418            Wanda Pimentel  \n",
       "419     Sebastiano del Piombo  \n",
       "420              Georg Scholz  \n",
       "421            Marcel Duchamp  \n",
       "\n",
       "[422 rows x 5 columns]"
      ]
     },
     "metadata": {},
     "output_type": "display_data"
    }
   ],
   "source": [
    "display(art_data)"
   ]
  },
  {
   "cell_type": "code",
   "execution_count": 150,
   "id": "47ebd9ae-2f54-49bc-97be-cd8d2dfecd73",
   "metadata": {},
   "outputs": [
    {
     "name": "stdout",
     "output_type": "stream",
     "text": [
      "Department Titles ['Painting and Sculpture of Europe' 'Arts of the Americas' 'Modern Art'\n",
      " 'Contemporary Art' 'Arts of Asia' 'Photography and Media'\n",
      " 'Prints and Drawings' 'Applied Arts of Europe' 'Textiles'\n",
      " 'Arts of Africa' 'Architecture and Design' nan\n",
      " 'Arts of the Ancient Mediterranean and Byzantium']\n"
     ]
    }
   ],
   "source": [
    "# Unique department titles are extracted from the art data, providing insight into how the artworks are categorised.\n",
    "\n",
    "departments = art_data[\"department_title\"].unique()\n",
    "\n",
    "print(\"Department Titles\",departments)"
   ]
  },
  {
   "cell_type": "code",
   "execution_count": 151,
   "id": "705c87ea-6af4-42fe-a661-38603979a20f",
   "metadata": {},
   "outputs": [
    {
     "data": {
      "text/plain": [
       "{'pagination': {'total': 126319,\n",
       "  'limit': 12,\n",
       "  'offset': 0,\n",
       "  'total_pages': 10527,\n",
       "  'current_page': 1,\n",
       "  'next_url': 'https://api.artic.edu/api/v1/artworks?page=2&fields=id%2Ctitle%2Cartist_display%2Cdate_display%2Cclassification_titles%2Cdepartment_title%2Cimage_id'},\n",
       " 'data': [{'id': 25770,\n",
       "   'title': 'The Crucifixion',\n",
       "   'date_display': 'c. 1370',\n",
       "   'artist_display': 'Francescuccio Ghissi (Italian, active 1359–1395)',\n",
       "   'department_title': 'Painting and Sculpture of Europe',\n",
       "   'classification_titles': ['tempera',\n",
       "    'paint',\n",
       "    'Italian',\n",
       "    'painting',\n",
       "    'european painting'],\n",
       "   'image_id': '4c862fdf-89d6-7c37-ccd2-3c5ee85e5161'},\n",
       "  {'id': 25753,\n",
       "   'title': 'Two Putti',\n",
       "   'date_display': '1490/1510',\n",
       "   'artist_display': 'Matteo di Giovanni (Italian, c. 1430–1495)',\n",
       "   'department_title': 'Painting and Sculpture of Europe',\n",
       "   'classification_titles': ['tempera',\n",
       "    'Italian',\n",
       "    'paint',\n",
       "    'oil paintings (visual works)',\n",
       "    'painting',\n",
       "    'european painting'],\n",
       "   'image_id': '79a40120-87bf-ff0f-4a97-fdda3a26743c'},\n",
       "  {'id': 25749,\n",
       "   'title': 'Fragment from Christ Carrying the Cross: Saint John the Evangelist',\n",
       "   'date_display': 'c. 1500',\n",
       "   'artist_display': 'Jean Hey (Master of Moulins; Netherlandish, active in France, c. 1480-c.1504)',\n",
       "   'department_title': 'Painting and Sculpture of Europe',\n",
       "   'classification_titles': ['painting',\n",
       "    'oil on panel',\n",
       "    'oil paintings (visual works)',\n",
       "    'paint',\n",
       "    'fragment',\n",
       "    'french',\n",
       "    'european painting'],\n",
       "   'image_id': '266ebd5c-bc67-1e1e-9696-5a8e40e6de80'},\n",
       "  {'id': 58476,\n",
       "   'title': 'Elements I',\n",
       "   'date_display': '1978',\n",
       "   'artist_display': 'Nancy Hemenway Barton (American, 1920–2008)\\nMouse Island, Maine, and Washington, DC, United States',\n",
       "   'department_title': 'Textiles',\n",
       "   'classification_titles': ['textile',\n",
       "    'needlework (visual works)',\n",
       "    'fiber art'],\n",
       "   'image_id': '1e463835-b2ad-dfe7-65d6-272bfa69df0c'},\n",
       "  {'id': 65151,\n",
       "   'title': 'Linear',\n",
       "   'date_display': '1950s',\n",
       "   'artist_display': 'Designed by Joseph R. Bobrowicz (American, born 1926)\\nUnited States, Pennsylvania, Philadelphia',\n",
       "   'department_title': 'Textiles',\n",
       "   'classification_titles': ['textile', 'weaving - printed'],\n",
       "   'image_id': 'f3cf108f-2d2c-37d2-1ff3-f8d34f232e62'},\n",
       "  {'id': 90981,\n",
       "   'title': '3-D Squares',\n",
       "   'date_display': '1989',\n",
       "   'artist_display': 'Bobbi Shortlidge (American, born 1944)\\nUnited States, Illinois, Evanston',\n",
       "   'department_title': 'Textiles',\n",
       "   'classification_titles': ['textile',\n",
       "    'weaving',\n",
       "    'fiber art',\n",
       "    'furnishing textile'],\n",
       "   'image_id': 'a2eb6847-f90c-06d0-46dd-1f5b8e7c7813'},\n",
       "  {'id': 74683,\n",
       "   'title': 'The Tables Have Turned',\n",
       "   'date_display': '1989',\n",
       "   'artist_display': 'Dawn Zero Erickson (American, born 1958)\\nUnited States, Minnesota, Red Wing',\n",
       "   'department_title': 'Textiles',\n",
       "   'classification_titles': ['textile', 'weaving - printed'],\n",
       "   'image_id': 'd25b0d7e-8f89-0257-1a78-fe4233184d47'},\n",
       "  {'id': 65133,\n",
       "   'title': 'Panel (Upholstery Fabric)',\n",
       "   'date_display': '1951',\n",
       "   'artist_display': 'Yvonne Palmer Pacanovsky Bobrowicz (American, 1928-2022)\\nUnited States, Pennsylvania, Philadelphia',\n",
       "   'department_title': 'Textiles',\n",
       "   'classification_titles': ['textile', 'weaving'],\n",
       "   'image_id': 'a6ef2bf7-24ac-f911-210c-e5d77b1dac72'},\n",
       "  {'id': 74340,\n",
       "   'title': 'Girafters (Furnishing Fabric)',\n",
       "   'date_display': '1965 (produced and reprinted 1988)',\n",
       "   'artist_display': 'Designed by Ben Rose (American, 1916–2004)\\nProduced by Ben Rose, Inc.\\nUnited States, Illinois, Chicago',\n",
       "   'department_title': 'Textiles',\n",
       "   'classification_titles': ['textile',\n",
       "    'weaving - printed',\n",
       "    'furnishing textile'],\n",
       "   'image_id': '90f02bfd-bbca-8477-b10e-df4a6ffb2f79'},\n",
       "  {'id': 76776,\n",
       "   'title': 'Kyoto Evergreen (Furnishing Fabric)',\n",
       "   'date_display': '1989',\n",
       "   'artist_display': 'Designed by Maya Romanoff (American, 1941-2014)\\nUnited States, Illinois, Chicago',\n",
       "   'department_title': 'Textiles',\n",
       "   'classification_titles': ['textile',\n",
       "    'weaving - printed',\n",
       "    'furnishing textile'],\n",
       "   'image_id': 'c7791e9e-a979-5284-2a81-178a28cecc21'},\n",
       "  {'id': 69454,\n",
       "   'title': 'Bedcover',\n",
       "   'date_display': '1778',\n",
       "   'artist_display': 'Made for the wedding chest of Eliza Ann Hunnewell\\nUnited States, Massachusetts, Newton',\n",
       "   'department_title': 'Textiles',\n",
       "   'classification_titles': ['needlework - quilt', 'textile'],\n",
       "   'image_id': 'c04c60e8-5488-e191-1631-13f62c575d72'},\n",
       "  {'id': 199603,\n",
       "   'title': 'Untitled, plate ten from See America First',\n",
       "   'date_display': 'October 1–14, 1968',\n",
       "   'artist_display': 'H. C. Westermann (American, 1922-1981)\\nprinted by Don Kelley\\npublished by Tamarind Lithography Workshop (American, founded 19601976)',\n",
       "   'department_title': 'Prints and Drawings',\n",
       "   'classification_titles': ['lithograph', 'print', 'prints and drawing'],\n",
       "   'image_id': '6b2a1d81-ee36-65c3-b0e2-a553920c0517'}],\n",
       " 'info': {'license_text': 'The `description` field in this response is licensed under a Creative Commons Attribution 4.0 Generic License (CC-By) and the Terms and Conditions of artic.edu. All other data in this response is licensed under a Creative Commons Zero (CC0) 1.0 designation and the Terms and Conditions of artic.edu.',\n",
       "  'license_links': ['https://creativecommons.org/publicdomain/zero/1.0/',\n",
       "   'https://www.artic.edu/terms'],\n",
       "  'version': '1.10'},\n",
       " 'config': {'iiif_url': 'https://www.artic.edu/iiif/2',\n",
       "  'website_url': 'http://www.artic.edu'}}"
      ]
     },
     "execution_count": 151,
     "metadata": {},
     "output_type": "execute_result"
    }
   ],
   "source": [
    "# I then make a request to the Art Institute API to retrieve additional artwork details, including image IDs and classifications, \n",
    "# which enhances the dataset I am working with, beyond the CSV file, which is missing the image ids i need.\n",
    "\n",
    "url = \"https://api.artic.edu/api/v1/artworks?fields=id,title,artist_display,date_display,classification_titles,department_title,image_id\"\n",
    "request = urllib.request.Request(url)\n",
    "response = urllib.request.urlopen(request)\n",
    "all_art_data= json.loads(response.read())\n",
    "all_art_data"
   ]
  },
  {
   "cell_type": "code",
   "execution_count": 179,
   "id": "cb65922e-0d7d-44db-a84a-b180580fdabb",
   "metadata": {},
   "outputs": [
    {
     "name": "stdout",
     "output_type": "stream",
     "text": [
      "Title: The Crucifixion\n",
      "Artist: Francescuccio Ghissi (Italian, active 1359–1395)\n",
      "Date: c. 1370\n",
      "Classification: ['tempera', 'paint', 'Italian', 'painting', 'european painting']\n",
      "Department: Painting and Sculpture of Europe\n",
      "\n",
      "\n",
      "Title: Two Putti\n",
      "Artist: Matteo di Giovanni (Italian, c. 1430–1495)\n",
      "Date: 1490/1510\n",
      "Classification: ['tempera', 'Italian', 'paint', 'oil paintings (visual works)', 'painting', 'european painting']\n",
      "Department: Painting and Sculpture of Europe\n",
      "\n",
      "\n",
      "Title: Fragment from Christ Carrying the Cross: Saint John the Evangelist\n",
      "Artist: Jean Hey (Master of Moulins; Netherlandish, active in France, c. 1480-c.1504)\n",
      "Date: c. 1500\n",
      "Classification: ['painting', 'oil on panel', 'oil paintings (visual works)', 'paint', 'fragment', 'french', 'european painting']\n",
      "Department: Painting and Sculpture of Europe\n",
      "\n",
      "\n",
      "Title: Elements I\n",
      "Artist: Nancy Hemenway Barton (American, 1920–2008)\n",
      "Mouse Island, Maine, and Washington, DC, United States\n",
      "Date: 1978\n",
      "Classification: ['textile', 'needlework (visual works)', 'fiber art']\n",
      "Department: Textiles\n",
      "\n",
      "\n",
      "Title: Linear\n",
      "Artist: Designed by Joseph R. Bobrowicz (American, born 1926)\n",
      "United States, Pennsylvania, Philadelphia\n",
      "Date: 1950s\n",
      "Classification: ['textile', 'weaving - printed']\n",
      "Department: Textiles\n",
      "\n",
      "\n",
      "Title: 3-D Squares\n",
      "Artist: Bobbi Shortlidge (American, born 1944)\n",
      "United States, Illinois, Evanston\n",
      "Date: 1989\n",
      "Classification: ['textile', 'weaving', 'fiber art', 'furnishing textile']\n",
      "Department: Textiles\n",
      "\n",
      "\n",
      "Title: The Tables Have Turned\n",
      "Artist: Dawn Zero Erickson (American, born 1958)\n",
      "United States, Minnesota, Red Wing\n",
      "Date: 1989\n",
      "Classification: ['textile', 'weaving - printed']\n",
      "Department: Textiles\n",
      "\n",
      "\n",
      "Title: Panel (Upholstery Fabric)\n",
      "Artist: Yvonne Palmer Pacanovsky Bobrowicz (American, 1928-2022)\n",
      "United States, Pennsylvania, Philadelphia\n",
      "Date: 1951\n",
      "Classification: ['textile', 'weaving']\n",
      "Department: Textiles\n",
      "\n",
      "\n",
      "Title: Girafters (Furnishing Fabric)\n",
      "Artist: Designed by Ben Rose (American, 1916–2004)\n",
      "Produced by Ben Rose, Inc.\n",
      "United States, Illinois, Chicago\n",
      "Date: 1965 (produced and reprinted 1988)\n",
      "Classification: ['textile', 'weaving - printed', 'furnishing textile']\n",
      "Department: Textiles\n",
      "\n",
      "\n",
      "Title: Kyoto Evergreen (Furnishing Fabric)\n",
      "Artist: Designed by Maya Romanoff (American, 1941-2014)\n",
      "United States, Illinois, Chicago\n",
      "Date: 1989\n",
      "Classification: ['textile', 'weaving - printed', 'furnishing textile']\n",
      "Department: Textiles\n",
      "\n",
      "\n",
      "Title: Bedcover\n",
      "Artist: Made for the wedding chest of Eliza Ann Hunnewell\n",
      "United States, Massachusetts, Newton\n",
      "Date: 1778\n",
      "Classification: ['needlework - quilt', 'textile']\n",
      "Department: Textiles\n",
      "\n",
      "\n",
      "Title: Untitled, plate ten from See America First\n",
      "Artist: H. C. Westermann (American, 1922-1981)\n",
      "printed by Don Kelley\n",
      "published by Tamarind Lithography Workshop (American, founded 19601976)\n",
      "Date: October 1–14, 1968\n",
      "Classification: ['lithograph', 'print', 'prints and drawing']\n",
      "Department: Prints and Drawings\n",
      "\n",
      "\n"
     ]
    }
   ],
   "source": [
    "# Analysing artword data\n",
    "\n",
    "for artwork in all_art_data['data'][:20]: \n",
    "    \n",
    "    print(\"Title:\", artwork['title'])\n",
    "    print(\"Artist:\", artwork.get('artist_display',))\n",
    "    print(\"Date:\", artwork.get('date_display'))\n",
    "    print(\"Classification:\", artwork.get('classification_titles'))\n",
    "    print(\"Department:\", artwork.get('department_title'))\n",
    "    print(\"\\n\")"
   ]
  },
  {
   "cell_type": "code",
   "execution_count": 199,
   "id": "52d3222a-0cd6-4aa8-8552-e91a9f35b8d4",
   "metadata": {},
   "outputs": [
    {
     "data": {
      "text/html": [
       "<div>\n",
       "<style scoped>\n",
       "    .dataframe tbody tr th:only-of-type {\n",
       "        vertical-align: middle;\n",
       "    }\n",
       "\n",
       "    .dataframe tbody tr th {\n",
       "        vertical-align: top;\n",
       "    }\n",
       "\n",
       "    .dataframe thead th {\n",
       "        text-align: right;\n",
       "    }\n",
       "</style>\n",
       "<table border=\"1\" class=\"dataframe\">\n",
       "  <thead>\n",
       "    <tr style=\"text-align: right;\">\n",
       "      <th></th>\n",
       "      <th>id</th>\n",
       "      <th>title</th>\n",
       "      <th>date_display</th>\n",
       "      <th>artist_display</th>\n",
       "      <th>department_title</th>\n",
       "      <th>classification_titles</th>\n",
       "      <th>image_id</th>\n",
       "    </tr>\n",
       "  </thead>\n",
       "  <tbody>\n",
       "    <tr>\n",
       "      <th>0</th>\n",
       "      <td>99766</td>\n",
       "      <td>Untitled (Butterfly Habitat)</td>\n",
       "      <td>c. 1940</td>\n",
       "      <td>Joseph Cornell\\nAmerican, 1903–1972</td>\n",
       "      <td>Modern Art</td>\n",
       "      <td>[sculpture, Surrealism Highlights, constructio...</td>\n",
       "      <td>1221a4a5-0b72-41df-3624-98abb53cf3a9</td>\n",
       "    </tr>\n",
       "    <tr>\n",
       "      <th>1</th>\n",
       "      <td>181145</td>\n",
       "      <td>Horse and Rider</td>\n",
       "      <td>1630</td>\n",
       "      <td>Hans Ludwig Kienle\\nGerman, 1591–1653\\nUlm, Ge...</td>\n",
       "      <td>Applied Arts of Europe</td>\n",
       "      <td>[statuette, european decorative arts, silver, ...</td>\n",
       "      <td>1dcb1fd9-8254-8098-586c-e5b117c00871</td>\n",
       "    </tr>\n",
       "    <tr>\n",
       "      <th>2</th>\n",
       "      <td>156442</td>\n",
       "      <td>Coffer</td>\n",
       "      <td>1700/20</td>\n",
       "      <td>Attributed to André-Charles Boulle (French, 16...</td>\n",
       "      <td>Applied Arts of Europe</td>\n",
       "      <td>[chest (case furniture), case furniture, furni...</td>\n",
       "      <td>be169735-ea1c-7440-c438-bafd24021119</td>\n",
       "    </tr>\n",
       "    <tr>\n",
       "      <th>3</th>\n",
       "      <td>217295</td>\n",
       "      <td>Statue of Young Dionysos</td>\n",
       "      <td>100 BCE-100 CE</td>\n",
       "      <td>Hellenistic or Roman; Eastern Mediterranean</td>\n",
       "      <td>Arts of the Ancient Mediterranean and Byzantium</td>\n",
       "      <td>[sculpture, vessel]</td>\n",
       "      <td>3f3ba9a2-24e0-435f-64e7-31114121b3be</td>\n",
       "    </tr>\n",
       "    <tr>\n",
       "      <th>4</th>\n",
       "      <td>198905</td>\n",
       "      <td>Still Life with Ostrich Egg Cup and the Whitfi...</td>\n",
       "      <td>c. 1670</td>\n",
       "      <td>Pieter Gerritsz. van Roestraeten (Dutch, 1630–...</td>\n",
       "      <td>Painting and Sculpture of Europe</td>\n",
       "      <td>[painting, still life, paint, oil paintings (v...</td>\n",
       "      <td>a3bfd218-9b88-f59b-5ade-f39b45f3ec4f</td>\n",
       "    </tr>\n",
       "  </tbody>\n",
       "</table>\n",
       "</div>"
      ],
      "text/plain": [
       "       id                                              title    date_display  \\\n",
       "0   99766                       Untitled (Butterfly Habitat)         c. 1940   \n",
       "1  181145                                    Horse and Rider            1630   \n",
       "2  156442                                             Coffer         1700/20   \n",
       "3  217295                           Statue of Young Dionysos  100 BCE-100 CE   \n",
       "4  198905  Still Life with Ostrich Egg Cup and the Whitfi...         c. 1670   \n",
       "\n",
       "                                      artist_display  \\\n",
       "0                Joseph Cornell\\nAmerican, 1903–1972   \n",
       "1  Hans Ludwig Kienle\\nGerman, 1591–1653\\nUlm, Ge...   \n",
       "2  Attributed to André-Charles Boulle (French, 16...   \n",
       "3        Hellenistic or Roman; Eastern Mediterranean   \n",
       "4  Pieter Gerritsz. van Roestraeten (Dutch, 1630–...   \n",
       "\n",
       "                                  department_title  \\\n",
       "0                                       Modern Art   \n",
       "1                           Applied Arts of Europe   \n",
       "2                           Applied Arts of Europe   \n",
       "3  Arts of the Ancient Mediterranean and Byzantium   \n",
       "4                 Painting and Sculpture of Europe   \n",
       "\n",
       "                               classification_titles  \\\n",
       "0  [sculpture, Surrealism Highlights, constructio...   \n",
       "1  [statuette, european decorative arts, silver, ...   \n",
       "2  [chest (case furniture), case furniture, furni...   \n",
       "3                                [sculpture, vessel]   \n",
       "4  [painting, still life, paint, oil paintings (v...   \n",
       "\n",
       "                               image_id  \n",
       "0  1221a4a5-0b72-41df-3624-98abb53cf3a9  \n",
       "1  1dcb1fd9-8254-8098-586c-e5b117c00871  \n",
       "2  be169735-ea1c-7440-c438-bafd24021119  \n",
       "3  3f3ba9a2-24e0-435f-64e7-31114121b3be  \n",
       "4  a3bfd218-9b88-f59b-5ade-f39b45f3ec4f  "
      ]
     },
     "metadata": {},
     "output_type": "display_data"
    },
    {
     "name": "stdout",
     "output_type": "stream",
     "text": [
      "Total artworks with images: 12\n"
     ]
    }
   ],
   "source": [
    "# Convert the JSON data to a DataFrame\n",
    "artworks_df = pd.json_normalize(all_art_data['data'])\n",
    "\n",
    "# Filter to include only records with an image_id\n",
    "artworks_with_images_df = artworks_df[artworks_df[\"image_id\"].notna()]\n",
    "\n",
    "# Display the first few rows of the filtered DataFrame\n",
    "display(artworks_with_images_df.head())\n",
    "print(f\"Total artworks with images: {len(artworks_with_images_df)}\")\n"
   ]
  },
  {
   "cell_type": "code",
   "execution_count": 200,
   "id": "30aebd14-668b-4207-8bdd-3b3c70a4315f",
   "metadata": {},
   "outputs": [
    {
     "name": "stdout",
     "output_type": "stream",
     "text": [
      "Departments with images available: ['Modern Art' 'Applied Arts of Europe'\n",
      " 'Arts of the Ancient Mediterranean and Byzantium'\n",
      " 'Painting and Sculpture of Europe']\n"
     ]
    }
   ],
   "source": [
    "# Check unique department titles in the filtered data\n",
    "unique_departments = artworks_with_images_df[\"department_title\"].unique()\n",
    "print(\"Departments with images available:\", unique_departments)"
   ]
  },
  {
   "cell_type": "code",
   "execution_count": 201,
   "id": "a7d3a987-e7fa-4bf1-bf05-79ecedaf8714",
   "metadata": {},
   "outputs": [
    {
     "data": {
      "text/html": [
       "<div>\n",
       "<style scoped>\n",
       "    .dataframe tbody tr th:only-of-type {\n",
       "        vertical-align: middle;\n",
       "    }\n",
       "\n",
       "    .dataframe tbody tr th {\n",
       "        vertical-align: top;\n",
       "    }\n",
       "\n",
       "    .dataframe thead th {\n",
       "        text-align: right;\n",
       "    }\n",
       "</style>\n",
       "<table border=\"1\" class=\"dataframe\">\n",
       "  <thead>\n",
       "    <tr style=\"text-align: right;\">\n",
       "      <th></th>\n",
       "      <th>id</th>\n",
       "      <th>title</th>\n",
       "      <th>date_display</th>\n",
       "      <th>artist_display</th>\n",
       "      <th>department_title</th>\n",
       "      <th>classification_titles</th>\n",
       "      <th>image_id</th>\n",
       "    </tr>\n",
       "  </thead>\n",
       "  <tbody>\n",
       "    <tr>\n",
       "      <th>0</th>\n",
       "      <td>99766</td>\n",
       "      <td>Untitled (Butterfly Habitat)</td>\n",
       "      <td>c. 1940</td>\n",
       "      <td>Joseph Cornell\\nAmerican, 1903–1972</td>\n",
       "      <td>Modern Art</td>\n",
       "      <td>[sculpture, Surrealism Highlights, constructio...</td>\n",
       "      <td>1221a4a5-0b72-41df-3624-98abb53cf3a9</td>\n",
       "    </tr>\n",
       "  </tbody>\n",
       "</table>\n",
       "</div>"
      ],
      "text/plain": [
       "      id                         title date_display  \\\n",
       "0  99766  Untitled (Butterfly Habitat)      c. 1940   \n",
       "\n",
       "                        artist_display department_title  \\\n",
       "0  Joseph Cornell\\nAmerican, 1903–1972       Modern Art   \n",
       "\n",
       "                               classification_titles  \\\n",
       "0  [sculpture, Surrealism Highlights, constructio...   \n",
       "\n",
       "                               image_id  \n",
       "0  1221a4a5-0b72-41df-3624-98abb53cf3a9  "
      ]
     },
     "metadata": {},
     "output_type": "display_data"
    },
    {
     "name": "stdout",
     "output_type": "stream",
     "text": [
      "Total artworks from selected departments with images: 1\n"
     ]
    }
   ],
   "source": [
    "# Filter for artworks in \"Modern Art\" and \"Contemporary Art\" departments\n",
    "departments_of_interest = [\"Modern Art\", \"Contemporary Art\", \"Textiles\", \"Photography and Media\", \"Prints and Drawings\"]\n",
    "filtered_departments_df = artworks_with_images_df[\n",
    "    artworks_with_images_df[\"department_title\"].isin(departments_of_interest)\n",
    "]\n",
    "\n",
    "# Display a sample to verify and check the count\n",
    "display(filtered_departments_df.head())\n",
    "print(f\"Total artworks from selected departments with images: {len(filtered_departments_df)}\")"
   ]
  },
  {
   "cell_type": "code",
   "execution_count": 202,
   "id": "f0112178-9090-4732-99fa-53845c299e2f",
   "metadata": {},
   "outputs": [
    {
     "name": "stdout",
     "output_type": "stream",
     "text": [
      "Title: Untitled (Butterfly Habitat)\n",
      "Artist: Joseph Cornell\n",
      "American, 1903–1972\n",
      "Department: Modern Art\n"
     ]
    },
    {
     "data": {
      "text/html": [
       "<img src=\"https://www.artic.edu/iiif/2/1221a4a5-0b72-41df-3624-98abb53cf3a9/full/843,/0/default.jpg\" width=\"300\"/>"
      ],
      "text/plain": [
       "<IPython.core.display.Image object>"
      ]
     },
     "metadata": {},
     "output_type": "display_data"
    },
    {
     "name": "stdout",
     "output_type": "stream",
     "text": [
      "\n",
      "\n",
      "Title: Horse and Rider\n",
      "Artist: Hans Ludwig Kienle\n",
      "German, 1591–1653\n",
      "Ulm, Germany\n",
      "Department: Applied Arts of Europe\n"
     ]
    },
    {
     "data": {
      "text/html": [
       "<img src=\"https://www.artic.edu/iiif/2/1dcb1fd9-8254-8098-586c-e5b117c00871/full/843,/0/default.jpg\" width=\"300\"/>"
      ],
      "text/plain": [
       "<IPython.core.display.Image object>"
      ]
     },
     "metadata": {},
     "output_type": "display_data"
    },
    {
     "name": "stdout",
     "output_type": "stream",
     "text": [
      "\n",
      "\n",
      "Title: Coffer\n",
      "Artist: Attributed to André-Charles Boulle (French, 1642–1732)\n",
      "France, Paris\n",
      "Department: Applied Arts of Europe\n"
     ]
    },
    {
     "data": {
      "text/html": [
       "<img src=\"https://www.artic.edu/iiif/2/be169735-ea1c-7440-c438-bafd24021119/full/843,/0/default.jpg\" width=\"300\"/>"
      ],
      "text/plain": [
       "<IPython.core.display.Image object>"
      ]
     },
     "metadata": {},
     "output_type": "display_data"
    },
    {
     "name": "stdout",
     "output_type": "stream",
     "text": [
      "\n",
      "\n",
      "Title: Statue of Young Dionysos\n",
      "Artist: Hellenistic or Roman; Eastern Mediterranean\n",
      "Department: Arts of the Ancient Mediterranean and Byzantium\n"
     ]
    },
    {
     "data": {
      "text/html": [
       "<img src=\"https://www.artic.edu/iiif/2/3f3ba9a2-24e0-435f-64e7-31114121b3be/full/843,/0/default.jpg\" width=\"300\"/>"
      ],
      "text/plain": [
       "<IPython.core.display.Image object>"
      ]
     },
     "metadata": {},
     "output_type": "display_data"
    },
    {
     "name": "stdout",
     "output_type": "stream",
     "text": [
      "\n",
      "\n",
      "Title: Still Life with Ostrich Egg Cup and the Whitfield Heirlooms\n",
      "Artist: Pieter Gerritsz. van Roestraeten (Dutch, 1630–1700)\n",
      "Department: Painting and Sculpture of Europe\n"
     ]
    },
    {
     "data": {
      "text/html": [
       "<img src=\"https://www.artic.edu/iiif/2/a3bfd218-9b88-f59b-5ade-f39b45f3ec4f/full/843,/0/default.jpg\" width=\"300\"/>"
      ],
      "text/plain": [
       "<IPython.core.display.Image object>"
      ]
     },
     "metadata": {},
     "output_type": "display_data"
    },
    {
     "name": "stdout",
     "output_type": "stream",
     "text": [
      "\n",
      "\n"
     ]
    }
   ],
   "source": [
    "# Function to display a sample of artworks with images from all departments\n",
    "def display_all_departments_artworks(filtered_art_data, num_samples=5):\n",
    "    for _, artwork in filtered_art_data.head(num_samples).iterrows():\n",
    "        print(f\"Title: {artwork['title']}\")\n",
    "        print(f\"Artist: {artwork['artist_display']}\")\n",
    "        print(f\"Department: {artwork['department_title']}\")\n",
    "        display(Image(url=f\"https://www.artic.edu/iiif/2/{artwork['image_id']}/full/843,/0/default.jpg\", width=300))\n",
    "        print(\"\\n\")\n",
    "\n",
    "# Display a sample of artworks from all departments with images\n",
    "display_all_departments_artworks(artworks_with_images_df)"
   ]
  },
  {
   "cell_type": "code",
   "execution_count": 203,
   "id": "4f417493-e123-47fd-bd21-625048c258d8",
   "metadata": {},
   "outputs": [
    {
     "name": "stdout",
     "output_type": "stream",
     "text": [
      "department_title\n",
      "Applied Arts of Europe                             9\n",
      "Modern Art                                         1\n",
      "Arts of the Ancient Mediterranean and Byzantium    1\n",
      "Painting and Sculpture of Europe                   1\n",
      "Name: count, dtype: int64\n"
     ]
    }
   ],
   "source": [
    "# Count the number of artworks per department\n",
    "department_counts = artworks_with_images_df[\"department_title\"].value_counts()\n",
    "\n",
    "# Display the counts for each department\n",
    "print(department_counts)"
   ]
  },
  {
   "cell_type": "code",
   "execution_count": 204,
   "id": "2ce24860-11ca-4a49-862c-e548024862d3",
   "metadata": {},
   "outputs": [],
   "source": [
    "#Accessing Spotify API \n",
    "\n",
    "cred = \"spotify_keys.json\"\n",
    "with open(cred,\"r\") as key_file:\n",
    "    api_tokens = json.load(key_file)\n",
    "\n",
    "key_file.close()\n",
    "\n",
    "client_id = api_tokens['client_id']\n",
    "client_secret = api_tokens['client_secret']\n",
    "redirectURI = api_tokens['redirect']\n",
    "username = api_tokens['username'] \n",
    "\n",
    "scope = 'user-read-private user-read-playback-state user-modify-playback-state playlist-modify-public user-library-read'\n",
    "token = util.prompt_for_user_token(username, scope, client_id=client_id, client_secret=client_secret, redirect_uri=redirectURI)"
   ]
  },
  {
   "cell_type": "code",
   "execution_count": 205,
   "id": "71bfbd87-4519-452c-8c81-ec6913e64d25",
   "metadata": {},
   "outputs": [],
   "source": [
    "sp = spotipy.Spotify(auth=token)"
   ]
  },
  {
   "cell_type": "code",
   "execution_count": 206,
   "id": "8b4874bf-e590-4030-9fc7-65513e858cbb",
   "metadata": {},
   "outputs": [],
   "source": [
    "# Available genre seeds from Spotify are fetched, which will later be used to \n",
    "# generate music recommendations based on the selected art categories.\n",
    "\n",
    "genre_seeds = sp.recommendation_genre_seeds()"
   ]
  },
  {
   "cell_type": "code",
   "execution_count": 207,
   "id": "b356961f-137e-4a24-9c12-234e88637127",
   "metadata": {},
   "outputs": [
    {
     "data": {
      "text/plain": [
       "{'genres': ['acoustic',\n",
       "  'afrobeat',\n",
       "  'alt-rock',\n",
       "  'alternative',\n",
       "  'ambient',\n",
       "  'anime',\n",
       "  'black-metal',\n",
       "  'bluegrass',\n",
       "  'blues',\n",
       "  'bossanova',\n",
       "  'brazil',\n",
       "  'breakbeat',\n",
       "  'british',\n",
       "  'cantopop',\n",
       "  'chicago-house',\n",
       "  'children',\n",
       "  'chill',\n",
       "  'classical',\n",
       "  'club',\n",
       "  'comedy',\n",
       "  'country',\n",
       "  'dance',\n",
       "  'dancehall',\n",
       "  'death-metal',\n",
       "  'deep-house',\n",
       "  'detroit-techno',\n",
       "  'disco',\n",
       "  'disney',\n",
       "  'drum-and-bass',\n",
       "  'dub',\n",
       "  'dubstep',\n",
       "  'edm',\n",
       "  'electro',\n",
       "  'electronic',\n",
       "  'emo',\n",
       "  'folk',\n",
       "  'forro',\n",
       "  'french',\n",
       "  'funk',\n",
       "  'garage',\n",
       "  'german',\n",
       "  'gospel',\n",
       "  'goth',\n",
       "  'grindcore',\n",
       "  'groove',\n",
       "  'grunge',\n",
       "  'guitar',\n",
       "  'happy',\n",
       "  'hard-rock',\n",
       "  'hardcore',\n",
       "  'hardstyle',\n",
       "  'heavy-metal',\n",
       "  'hip-hop',\n",
       "  'holidays',\n",
       "  'honky-tonk',\n",
       "  'house',\n",
       "  'idm',\n",
       "  'indian',\n",
       "  'indie',\n",
       "  'indie-pop',\n",
       "  'industrial',\n",
       "  'iranian',\n",
       "  'j-dance',\n",
       "  'j-idol',\n",
       "  'j-pop',\n",
       "  'j-rock',\n",
       "  'jazz',\n",
       "  'k-pop',\n",
       "  'kids',\n",
       "  'latin',\n",
       "  'latino',\n",
       "  'malay',\n",
       "  'mandopop',\n",
       "  'metal',\n",
       "  'metal-misc',\n",
       "  'metalcore',\n",
       "  'minimal-techno',\n",
       "  'movies',\n",
       "  'mpb',\n",
       "  'new-age',\n",
       "  'new-release',\n",
       "  'opera',\n",
       "  'pagode',\n",
       "  'party',\n",
       "  'philippines-opm',\n",
       "  'piano',\n",
       "  'pop',\n",
       "  'pop-film',\n",
       "  'post-dubstep',\n",
       "  'power-pop',\n",
       "  'progressive-house',\n",
       "  'psych-rock',\n",
       "  'punk',\n",
       "  'punk-rock',\n",
       "  'r-n-b',\n",
       "  'rainy-day',\n",
       "  'reggae',\n",
       "  'reggaeton',\n",
       "  'road-trip',\n",
       "  'rock',\n",
       "  'rock-n-roll',\n",
       "  'rockabilly',\n",
       "  'romance',\n",
       "  'sad',\n",
       "  'salsa',\n",
       "  'samba',\n",
       "  'sertanejo',\n",
       "  'show-tunes',\n",
       "  'singer-songwriter',\n",
       "  'ska',\n",
       "  'sleep',\n",
       "  'songwriter',\n",
       "  'soul',\n",
       "  'soundtracks',\n",
       "  'spanish',\n",
       "  'study',\n",
       "  'summer',\n",
       "  'swedish',\n",
       "  'synth-pop',\n",
       "  'tango',\n",
       "  'techno',\n",
       "  'trance',\n",
       "  'trip-hop',\n",
       "  'turkish',\n",
       "  'work-out',\n",
       "  'world-music']}"
      ]
     },
     "execution_count": 207,
     "metadata": {},
     "output_type": "execute_result"
    }
   ],
   "source": [
    "genre_seeds"
   ]
  },
  {
   "cell_type": "code",
   "execution_count": 208,
   "id": "86f37438-e0f8-446a-9216-9aeca6f0741e",
   "metadata": {},
   "outputs": [],
   "source": [
    "# Art-to-Music Mapping Concept\n",
    "\n",
    "# Group 1: Abstract and Experimental\n",
    "# Departments: Modern Art, Contemporary Art\n",
    "# Genres: ambient, experimental, trip-hop, alt-rock, idm,\n",
    "# Vibe: Abstract, innovative, and boundary-pushing, these genres provide a textured and atmospheric soundscape, perfect for the \n",
    "# unconventional nature of modern and contemporary works. The music offers an abstract exploration that reflects the introspective and \n",
    "# avant-garde qualities of this art.\n",
    "\n",
    "# Group 2: Textiles and Cultural Arts\n",
    "# Departments: Textiles, Arts of the Americas, Arts of Africa\n",
    "# Genres: new-age, ethereal, drone, ambient, folk, americana, afro-beats\n",
    "# Vibe: Rooted in cultural heritage and natural themes, these genres evoke an expansive, meditative quality. They emphasize tradition and \n",
    "# a connection to nature, while still feeling fresh, making them a fitting choice for textile art and culturally rich works from the\n",
    "# Americas and Africa.\n",
    "\n",
    "# Group 3: Historical and Classical Arts\n",
    "# Departments: Painting and Sculpture of Europe, Applied Arts of Europe, Arts of the Ancient Mediterranean and Byzantium\n",
    "# Genres: classical, ethereal, jazz, blues, classical\n",
    "# Vibe: Timeless and sophisticated, these genres embody the rich history and craftsmanship of European and ancient Mediterranean art. \n",
    "# The music is regal and intricate, reflecting the elegance and historical depth of these classical and applied art forms.\n",
    "\n",
    "# Group 4: Photography and Media\n",
    "# Departments: Photography and Media, Prints and Drawings\n",
    "# Genres: cinematic, dark-ambient, lo-fi, soundscapes, drone, ethereal, ambient, downtempo, soundscapes\n",
    "# Vibe: Emotive and introspective, these genres are ideal for storytelling and capturing mood. The music enhances the narrative and \n",
    "# contemplative qualities of photography and intricate printmaking, creating an immersive experience that highlights the evocative \n",
    "# and detailed nature of these media.\n",
    "\n",
    "# Group 5: Asian Art and Fusion\n",
    "# Departments: Arts of Asia\n",
    "# Genres: cantopop, k-pop, j-pop\n",
    "# Vibe: This group showcases the vibrant and energetic sounds of contemporary pop music genres that resonate with the dynamic nature of \n",
    "# Asian art. Cantopop, K-pop, and J-pop reflect modern cultural influences and trends, creating an engaging soundtrack that enhances the \n",
    "# viewing experience."
   ]
  },
  {
   "cell_type": "code",
   "execution_count": 209,
   "id": "e7f746f9-95bf-4bea-a58d-79cd14cce07a",
   "metadata": {},
   "outputs": [],
   "source": [
    "# Mapping of art styles to music genres\n",
    "\n",
    "art_to_music_map = {\n",
    "    # Group 1: Abstract and Experimental\n",
    "    \"Modern Art\": [\"ambient\", \"experimental\", \"trip-hop\", \"alt-rock\", \"idm\"],\n",
    "    \"Contemporary Art\": [\"ambient\", \"experimental\", \"trip-hop\", \"alt-rock\", \"idm\"],\n",
    "    \n",
    "    # Group 2: Textiles and Cultural Arts\n",
    "    \"Textiles\": [\"new-age\", \"ethereal\", \"drone\", \"ambient\"],\n",
    "    \"Arts of the Americas\": [\"folk\", \"americana\"],\n",
    "    \"Arts of Africa\": [\"afrobeat\", \"african\", \"ethereal\"],\n",
    "    \n",
    "    # Group 3: Historical and Classical Arts\n",
    "    \"Painting and Sculpture of Europe\": [\"classical\", \"ethereal\"],\n",
    "    \"Applied Arts of Europe\": [\"jazz\", \"blues\", \"classical\"],\n",
    "    \"Arts of the Ancient Mediterranean and Byzantium\": [\"classical\",\"medieval\"],\n",
    "    \n",
    "    # Group 4: Photography and Media\n",
    "    \"Photography and Media\": [\"cinematic\", \"dark-ambient\", \"lo-fi\", \"soundscapes\", \"drone\"],\n",
    "    \"Prints and Drawings\": [\"ethereal\", \"ambient\", \"downtempo\", \"soundscapes\"],\n",
    "    \n",
    "    # Group 5: Asian Art and Fusion\n",
    "    \"Arts of Asia\": [\"cantopop\", \"k-pop\", \"j-pop\"]\n",
    "}"
   ]
  },
  {
   "cell_type": "code",
   "execution_count": 210,
   "id": "6a618e99-9919-4b57-93e0-a741a8906541",
   "metadata": {},
   "outputs": [
    {
     "name": "stdout",
     "output_type": "stream",
     "text": [
      "\n",
      "Music Recommendations for Modern Art:\n",
      " ♫ New Beginning (Tidal Darkness) by Deaf Center\n",
      " ♫ System by Carbon Based Lifeforms\n",
      " ♫ Babel by Massive Attack\n",
      " ♫ On Top Of The World by Imagine Dragons\n",
      " ♫ Phase 09 - Sombrero by Solar Fields\n",
      "\n",
      "Music Recommendations for Contemporary Art:\n",
      " ♫ Eggshell by Autechre\n",
      " ♫ Bad Girls by M.I.A.\n",
      " ♫ Hell Is Round The Corner by Tricky\n",
      " ♫ The Silent Orchestra by Biosphere\n",
      " ♫ Feels Like We Only Go Backwards by Tame Impala\n",
      "\n",
      "Music Recommendations for Textiles:\n",
      " ♫ Spirit Within by Primal Instinct\n",
      " ♫ In The Court Of The Mermaid by Friedemann\n",
      " ♫ The Stolen Child by Loreena McKennitt\n",
      " ♫ Matta - Remastered 2005 by Brian Eno\n",
      " ♫ Principles Of Lust: Sadeness / Find Love / Sadeness (Reprise) by Enigma\n",
      "\n",
      "Music Recommendations for Arts of the Americas:\n",
      " ♫ Truth by Alex Ebert\n",
      " ♫ Prïtoutïtze Planinata (Song from the Thracian Plain) by Bulgarian State Television Female Choir\n",
      " ♫ How Can You Swallow So Much Sleep by Bombay Bicycle Club\n",
      " ♫ Lunita by Calima\n",
      " ♫ Chico The American by Field Report\n",
      "\n",
      "Music Recommendations for Arts of Africa:\n",
      " ♫ On The Floor - Radio Edit by Jennifer Lopez\n",
      " ♫ Whenever, Wherever by Shakira\n",
      " ♫ Savane by Ali Farka Touré\n",
      " ♫ Je pense à toi by Amadou & Mariam\n",
      " ♫ Yori Yori by Bracket\n",
      "\n",
      "Music Recommendations for Painting and Sculpture of Europe:\n",
      " ♫ Symphony No. 4 \"Los Angeles\": I. Con sublimità by Arvo Pärt\n",
      " ♫ Deux Arabesques L. 66: No. 1 Andante con moto by Claude Debussy\n",
      " ♫ L'apprenti sorcier (the Sorcerer's Apprentice) by Paul Dukas\n",
      " ♫ Flute Concerto in D Major, Op. 10, No. 3, RV 428, \"Il gardellino\": II. Cantabile by Antonio Vivaldi\n",
      " ♫ Where Is My Mind by Maxence Cyrin\n",
      "\n",
      "Music Recommendations for Applied Arts of Europe:\n",
      " ♫ Leave My Head Alone Brain Seven by Henrik Schwarz\n",
      " ♫ When My Heart Beats Like a Hammer by Eric Clapton\n",
      " ♫ I'm Your Hoochie Coochie Man by Muddy Waters\n",
      " ♫ Boogie Stop Shuffle by Charles Mingus\n",
      " ♫  by \n",
      "\n",
      "Music Recommendations for Arts of the Ancient Mediterranean and Byzantium:\n",
      " ♫ Cantus in memoriam Benjamin Britten (Cantus in Memory of Benjamin Britten) by Arvo Pärt\n",
      " ♫ Le Quattro Stagioni: Violin Concerto No. 1 in E Major, Op. 8, RV 269, \"La primavera\": I. Allegro by Antonio Vivaldi\n",
      " ♫ The Ecstasy of Gold - L'Estasi Dell'oro by Ennio Morricone\n",
      " ♫ The Magic Flute, K. 620, Act II: \"Der Hölle Rache kocht in meinem Herzen\" by Wolfgang Amadeus Mozart\n",
      " ♫ Arabeske in C, Op. 18 by Robert Schumann\n",
      "\n",
      "Music Recommendations for Photography and Media:\n",
      "\n",
      "Music Recommendations for Prints and Drawings:\n",
      " ♫ Happiness by Jónsi\n",
      " ♫ Spacial Echoe by Rock-Candy\n",
      " ♫ 0:54 by Global Communication\n",
      " ♫ Tomorrow's Song by Ólafur Arnalds\n",
      " ♫ Featherstone by The Paper Kites\n",
      "\n",
      "Music Recommendations for Arts of Asia:\n",
      " ♫ Turn Off Your Phone by Jay Park\n",
      " ♫ F*** U (feat. Deepflow, J-Kwondo of 45 RPM) by J-Dogg\n",
      " ♫ Lollipop (Bonus Track) [BIGBANG & 2NE1] by 2NE1\n",
      " ♫ 끝나지 않은 노래 (Epilogue ver.) by 노영채\n",
      " ♫ 君は1000% by Yuko Ando\n"
     ]
    }
   ],
   "source": [
    "# For loop through each art category and generate music recommendations based on genre mapping\n",
    "for art_category, genre_seeds in art_to_music_map.items():\n",
    "    print(f\"\\nMusic Recommendations for {art_category}:\")\n",
    "\n",
    "    # Spotify's API can accept up to 5 seed genres, so we take the first 5 from genre_seeds\n",
    "    recommendations = sp.recommendations(seed_genres=genre_seeds[:5], limit=5)\n",
    "\n",
    "    # Loop through the recommended tracks and print the details\n",
    "    for track in recommendations['tracks']:\n",
    "        track_name = track['name']\n",
    "        artist_name = track['artists'][0]['name']\n",
    "        print(f\" ♫ {track_name} by {artist_name}\") "
   ]
  },
  {
   "cell_type": "code",
   "execution_count": 211,
   "id": "aa622d8a-a8f1-458c-bf2b-fbb12cfae917",
   "metadata": {},
   "outputs": [],
   "source": [
    "# THE MAIN CHUNK! - MAKING IT WORK!"
   ]
  },
  {
   "cell_type": "code",
   "execution_count": 212,
   "id": "ddc00c2d-9db4-42c5-bcee-3655a8768c59",
   "metadata": {},
   "outputs": [],
   "source": [
    "def display_virtual_exhibition_with_music(artworks_with_images_df, art_to_music_map, num_samples=5):\n",
    "    # Randomly sample artworks to display\n",
    "    sampled_artworks = artworks_with_images_df.sample(n=num_samples)\n",
    "    all_recommended_tracks = []  # List to collect all recommended track URIs\n",
    "\n",
    "    for _, artwork in sampled_artworks.iterrows():\n",
    "        # Display the artwork details\n",
    "        print(f\"\\nTitle: {artwork['title']}\")\n",
    "        print(f\"Artist: {artwork['artist_display']}\")\n",
    "        print(f\"Department: {artwork['department_title']}\")\n",
    "        display(Image(url=f\"https://www.artic.edu/iiif/2/{artwork['image_id']}/full/843,/0/default.jpg\", width=300))\n",
    "        \n",
    "        # Get the genres for the department\n",
    "        department = artwork[\"department_title\"]\n",
    "        genre_seeds = art_to_music_map.get(department, [])\n",
    "        \n",
    "        # Generate music recommendations if genres are available\n",
    "        if genre_seeds:\n",
    "            print(\"Music Recommendations:\")\n",
    "            recommendations = sp.recommendations(seed_genres=genre_seeds[:5], limit=3)  # Limit to 3 tracks\n",
    "            for track in recommendations['tracks']:\n",
    "                track_name = track['name']\n",
    "                artist_name = track['artists'][0]['name']\n",
    "                track_uri = track['uri']\n",
    "                all_recommended_tracks.append(track_uri)  # Collect track URI for playlist\n",
    "                print(f\" ♫ {track_name} by {artist_name}\")\n",
    "        else:\n",
    "            print(\"No genre mapping found for this department.\")\n",
    "        \n",
    "        # Separator for each artwork\n",
    "        print(\"\\n\" + \"-\"*50 + \"\\n\")\n",
    "    \n",
    "    # Return all collected track URIs\n",
    "    return all_recommended_tracks"
   ]
  },
  {
   "cell_type": "code",
   "execution_count": 213,
   "id": "22c176b9-7ab5-4240-bcea-536f4f70ca4c",
   "metadata": {},
   "outputs": [],
   "source": [
    "# Function to create a playlist and add collected tracks\n",
    "def create_exhibition_playlist(track_uris):\n",
    "    if not track_uris:\n",
    "        print(\"No tracks to add to the playlist.\")\n",
    "        return\n",
    "    \n",
    "    # Create a new Spotify playlist for the exhibition\n",
    "    playlist_name = \"Virtual Art Exhibition Playlist\"\n",
    "    description = \"A curated playlist featuring music to complement each artwork in the exhibition.\"\n",
    "    playlist = sp.user_playlist_create(user=username, name=playlist_name, public=True, description=description)\n",
    "    playlist_id = playlist['id']\n",
    "    \n",
    "    # Add tracks to the playlist\n",
    "    sp.playlist_add_items(playlist_id, track_uris)\n",
    "    print(f\"Playlist '{playlist_name}' created with {len(track_uris)} tracks.\")\n",
    "    \n",
    "    # Display the playlist URL\n",
    "    playlist_url = playlist['external_urls']['spotify']\n",
    "    print(f\"Playlist URL: {playlist_url}\")"
   ]
  },
  {
   "cell_type": "code",
   "execution_count": 214,
   "id": "d3335639-e619-40e2-b36c-2c1b237f331e",
   "metadata": {},
   "outputs": [
    {
     "name": "stdout",
     "output_type": "stream",
     "text": [
      "\n",
      "Title: King Vulture\n",
      "Artist: Meissen Porcelain Manufactory\n",
      "German, founded 1710\n",
      "Modeled by Johann Joachim Kändler\n",
      "German, 1706-1775\n",
      "Meissen, Germany\n",
      "Department: Applied Arts of Europe\n"
     ]
    },
    {
     "data": {
      "text/html": [
       "<img src=\"https://www.artic.edu/iiif/2/79388e76-3bad-d8a8-72da-af1dbcd7db77/full/843,/0/default.jpg\" width=\"300\"/>"
      ],
      "text/plain": [
       "<IPython.core.display.Image object>"
      ]
     },
     "metadata": {},
     "output_type": "display_data"
    },
    {
     "name": "stdout",
     "output_type": "stream",
     "text": [
      "Music Recommendations:\n",
      " ♫ Fantasia on Greensleeves by Ralph Vaughan Williams\n",
      " ♫ Toccata And Fugue In D Minor, BWV 565 by Leopold Stokowski\n",
      " ♫ Working Man by Otis Rush\n",
      "\n",
      "--------------------------------------------------\n",
      "\n",
      "\n",
      "Title: Untitled (Butterfly Habitat)\n",
      "Artist: Joseph Cornell\n",
      "American, 1903–1972\n",
      "Department: Modern Art\n"
     ]
    },
    {
     "data": {
      "text/html": [
       "<img src=\"https://www.artic.edu/iiif/2/1221a4a5-0b72-41df-3624-98abb53cf3a9/full/843,/0/default.jpg\" width=\"300\"/>"
      ],
      "text/plain": [
       "<IPython.core.display.Image object>"
      ]
     },
     "metadata": {},
     "output_type": "display_data"
    },
    {
     "name": "stdout",
     "output_type": "stream",
     "text": [
      "Music Recommendations:\n",
      " ♫ 14:31 by Global Communication\n",
      " ♫ Shake It Out by Florence + The Machine\n",
      " ♫ Sound The Alarm by Thievery Corporation\n",
      "\n",
      "--------------------------------------------------\n",
      "\n",
      "\n",
      "Title: Punch Pot\n",
      "Artist: England, Staffordshire\n",
      "Department: Applied Arts of Europe\n"
     ]
    },
    {
     "data": {
      "text/html": [
       "<img src=\"https://www.artic.edu/iiif/2/912d1485-e941-d125-4141-92940e6c4f17/full/843,/0/default.jpg\" width=\"300\"/>"
      ],
      "text/plain": [
       "<IPython.core.display.Image object>"
      ]
     },
     "metadata": {},
     "output_type": "display_data"
    },
    {
     "name": "stdout",
     "output_type": "stream",
     "text": [
      "Music Recommendations:\n",
      " ♫ As This Moment Slips Away by Joshua Redman\n",
      " ♫ Canticles of the Sky: Sky with Four Suns by John Luther Adams\n",
      " ♫ Hace Mucho, Mucho Tiempo by Javier Navarrete\n",
      "\n",
      "--------------------------------------------------\n",
      "\n",
      "\n",
      "Title: Coffer\n",
      "Artist: Attributed to André-Charles Boulle (French, 1642–1732)\n",
      "France, Paris\n",
      "Department: Applied Arts of Europe\n"
     ]
    },
    {
     "data": {
      "text/html": [
       "<img src=\"https://www.artic.edu/iiif/2/be169735-ea1c-7440-c438-bafd24021119/full/843,/0/default.jpg\" width=\"300\"/>"
      ],
      "text/plain": [
       "<IPython.core.display.Image object>"
      ]
     },
     "metadata": {},
     "output_type": "display_data"
    },
    {
     "name": "stdout",
     "output_type": "stream",
     "text": [
      "Music Recommendations:\n",
      " ♫ Chill Out (Things Gonna Change) feat. Carlos Santana by John Lee Hooker\n",
      " ♫ Call It Stormy Monday by Albert King\n",
      " ♫ She Moves Me by Muddy Waters\n",
      "\n",
      "--------------------------------------------------\n",
      "\n",
      "\n",
      "Title: Sideboard and Wine Cabinet\n",
      "Artist: Designed by William Burges \n",
      "English, 1827–1881\n",
      "Painted by Nathaniel Hubert John Westlake \n",
      "English, 1833–1921\n",
      "Made by Harland & Fisher\n",
      "London, England\n",
      "Department: Applied Arts of Europe\n"
     ]
    },
    {
     "data": {
      "text/html": [
       "<img src=\"https://www.artic.edu/iiif/2/2a9142b0-6519-1795-146f-03feee133d36/full/843,/0/default.jpg\" width=\"300\"/>"
      ],
      "text/plain": [
       "<IPython.core.display.Image object>"
      ]
     },
     "metadata": {},
     "output_type": "display_data"
    },
    {
     "name": "stdout",
     "output_type": "stream",
     "text": [
      "Music Recommendations:\n",
      " ♫ Midnight Special by Lead Belly\n",
      " ♫ Touch Her Soft Lips and Part (From \"Henry V\") by William Walton\n",
      " ♫ Symphony No. 10 'Alla ricerca di Borromini', Op. 327: I. Adagio by Peter Maxwell Davies\n",
      "\n",
      "--------------------------------------------------\n",
      "\n",
      "Playlist 'Virtual Art Exhibition Playlist' created with 15 tracks.\n",
      "Playlist URL: https://open.spotify.com/playlist/4ihPdxmiAE8HLrtEfgog5J\n"
     ]
    }
   ],
   "source": [
    "# Run the function to display artworks, generate music recommendations, and create the playlist\n",
    "track_uris = display_virtual_exhibition_with_music(artworks_with_images_df, art_to_music_map)\n",
    "create_exhibition_playlist(track_uris)"
   ]
  },
  {
   "cell_type": "code",
   "execution_count": null,
   "id": "edf0a992-f8d2-4c54-b84a-2493f805e085",
   "metadata": {},
   "outputs": [],
   "source": []
  }
 ],
 "metadata": {
  "kernelspec": {
   "display_name": "Python 3 (ipykernel)",
   "language": "python",
   "name": "python3"
  },
  "language_info": {
   "codemirror_mode": {
    "name": "ipython",
    "version": 3
   },
   "file_extension": ".py",
   "mimetype": "text/x-python",
   "name": "python",
   "nbconvert_exporter": "python",
   "pygments_lexer": "ipython3",
   "version": "3.12.7"
  }
 },
 "nbformat": 4,
 "nbformat_minor": 5
}
